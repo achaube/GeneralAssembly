{
 "cells": [
  {
   "cell_type": "markdown",
   "metadata": {
    "focus": false,
    "id": "e2d2e96d-e50e-4d2b-9ca2-b748fec717d5",
    "slideshow": {
     "slide_type": "slide"
    }
   },
   "source": [
    "# Agenda\n",
    "* Numpy\n",
    "* Pandas\n",
    "* Lab\n"
   ]
  },
  {
   "cell_type": "markdown",
   "metadata": {
    "focus": false,
    "id": "b4120c3a-6f30-49ba-ab8f-a86e3aa3adbd",
    "slideshow": {
     "slide_type": "subslide"
    }
   },
   "source": [
    "# Introduction\n"
   ]
  },
  {
   "cell_type": "markdown",
   "metadata": {
    "focus": false,
    "id": "485a2c1b-c45a-40da-a088-d164ede434c3",
    "slideshow": {
     "slide_type": "slide"
    }
   },
   "source": [
    "## Create a new notebook for your code-along:\n",
    "\n",
    "From our submission directory, type:\n",
    "    \n",
    "    jupyter notebook\n",
    "\n",
    "From the IPython Dashboard, open a new notebook.\n",
    "Change the title to: \"Numpy and Pandas\""
   ]
  },
  {
   "cell_type": "markdown",
   "metadata": {
    "focus": false,
    "id": "2bd62dd0-8f25-4203-8faf-9ec99b96aef2",
    "slideshow": {
     "slide_type": "slide"
    }
   },
   "source": [
    "# Introduction to Numpy\n",
    "\n",
    "* Overview\n",
    "* ndarray\n",
    "* Indexing and Slicing\n",
    "\n",
    "More info: [http://wiki.scipy.org/Tentative_NumPy_Tutorial](http://wiki.scipy.org/Tentative_NumPy_Tutorial)\n"
   ]
  },
  {
   "cell_type": "markdown",
   "metadata": {
    "focus": false,
    "id": "7db20dcb-cef2-4ae9-b44a-7b04744f74cf",
    "slideshow": {
     "slide_type": "subslide"
    }
   },
   "source": [
    "## Numpy Overview\n",
    "\n",
    "* Why Python for Data? Numpy brings *decades* of C math into Python!\n",
    "* Numpy provides a wrapper for extensive C/C++/Fortran codebases, used for data analysis functionality\n",
    "* NDAarray allows easy vectorized math and broadcasting (i.e. functions for vector elements of different shapes)"
   ]
  },
  {
   "cell_type": "code",
   "execution_count": 1,
   "metadata": {
    "collapsed": false,
    "focus": false,
    "id": "247250c7-2583-41fa-9198-6198b83fd243",
    "slideshow": {
     "slide_type": "subslide"
    }
   },
   "outputs": [],
   "source": [
    "import numpy as np"
   ]
  },
  {
   "cell_type": "code",
   "execution_count": null,
   "metadata": {
    "collapsed": true
   },
   "outputs": [],
   "source": []
  },
  {
   "cell_type": "markdown",
   "metadata": {
    "focus": false,
    "id": "7b1b97a1-ccb0-44a9-a0f8-12dcc590bc66",
    "slideshow": {
     "slide_type": "subslide"
    }
   },
   "source": [
    "### Creating ndarrays"
   ]
  },
  {
   "cell_type": "markdown",
   "metadata": {
    "focus": false,
    "id": "d6f83896-c0f2-4185-a528-481262fe2d91",
    "slideshow": {
     "slide_type": "fragment"
    }
   },
   "source": [
    "An array object represents a multidimensional, homogeneous array of fixed-size items. "
   ]
  },
  {
   "cell_type": "code",
   "execution_count": 2,
   "metadata": {
    "collapsed": false,
    "focus": false,
    "id": "54f9011d-2143-4bb7-81fc-e3216ac4c866",
    "slideshow": {
     "slide_type": "subslide"
    }
   },
   "outputs": [],
   "source": [
    "# Creating arrays\n",
    "a = np.zeros((3))\n",
    "b = np.ones((2,3))\n",
    "c = np.random.randint(1,10,(2,3,4))\n",
    "d = np.arange(0,11,1)"
   ]
  },
  {
   "cell_type": "code",
   "execution_count": 19,
   "metadata": {
    "collapsed": false
   },
   "outputs": [
    {
     "data": {
      "text/plain": [
       "array([ 0,  1,  2,  3,  4,  5,  6,  7,  8,  9, 10, 11, 12, 13, 14, 15, 16])"
      ]
     },
     "execution_count": 19,
     "metadata": {},
     "output_type": "execute_result"
    }
   ],
   "source": [
    "np.arange(0,17,1)"
   ]
  },
  {
   "cell_type": "markdown",
   "metadata": {
    "focus": false,
    "id": "668f00fe-00c6-4866-87a7-9293497f3a15",
    "slideshow": {
     "slide_type": "fragment"
    }
   },
   "source": [
    "What are these functions?\n",
    "\n",
    "    arange?"
   ]
  },
  {
   "cell_type": "code",
   "execution_count": 12,
   "metadata": {
    "collapsed": false,
    "focus": false,
    "id": "a84a1773-b477-421f-9f17-e26eb326b408",
    "slideshow": {
     "slide_type": "fragment"
    }
   },
   "outputs": [
    {
     "data": {
      "text/plain": [
       "(array([ 0.,  0.,  0.]), array([[ 1.,  1.,  1.],\n",
       "        [ 1.,  1.,  1.]]), array([[[6, 8, 4, 9],\n",
       "         [9, 4, 5, 3],\n",
       "         [2, 3, 8, 7]],\n",
       " \n",
       "        [[1, 9, 7, 9],\n",
       "         [6, 2, 3, 8],\n",
       "         [2, 9, 9, 6]]]), array([ 0,  1,  2,  3,  4,  5,  6,  7,  8,  9, 10]))"
      ]
     },
     "execution_count": 12,
     "metadata": {},
     "output_type": "execute_result"
    }
   ],
   "source": [
    "# Note the way each array is printed:\n",
    "a,b,c,d"
   ]
  },
  {
   "cell_type": "code",
   "execution_count": null,
   "metadata": {
    "collapsed": false,
    "focus": false,
    "id": "67c9acc2-c9a7-4636-acca-038bd99def6d",
    "slideshow": {
     "slide_type": "subslide"
    }
   },
   "outputs": [],
   "source": [
    "## Arithmetic in arrays is element wise"
   ]
  },
  {
   "cell_type": "code",
   "execution_count": 13,
   "metadata": {
    "collapsed": false,
    "focus": false,
    "id": "34461526-ff37-4e7d-8ff9-2f6887c10a1a",
    "slideshow": {
     "slide_type": "fragment"
    }
   },
   "outputs": [
    {
     "data": {
      "text/plain": [
       "array([0, 1, 2, 3])"
      ]
     },
     "execution_count": 13,
     "metadata": {},
     "output_type": "execute_result"
    }
   ],
   "source": [
    "a = np.array( [20,30,40,50] )\n",
    "b = np.arange( 4 )\n",
    "b"
   ]
  },
  {
   "cell_type": "code",
   "execution_count": 26,
   "metadata": {
    "collapsed": false
   },
   "outputs": [
    {
     "data": {
      "text/plain": [
       "array([0, 1, 2, 3])"
      ]
     },
     "execution_count": 26,
     "metadata": {},
     "output_type": "execute_result"
    }
   ],
   "source": [
    "np.arange(4)"
   ]
  },
  {
   "cell_type": "code",
   "execution_count": 14,
   "metadata": {
    "collapsed": false
   },
   "outputs": [
    {
     "data": {
      "text/plain": [
       "array([20, 30, 40, 50])"
      ]
     },
     "execution_count": 14,
     "metadata": {},
     "output_type": "execute_result"
    }
   ],
   "source": [
    "a"
   ]
  },
  {
   "cell_type": "code",
   "execution_count": 34,
   "metadata": {
    "collapsed": false
   },
   "outputs": [],
   "source": [
    "a = np.array( [20,30,40,50] )\n",
    "b = np.arange (4)"
   ]
  },
  {
   "cell_type": "code",
   "execution_count": 35,
   "metadata": {
    "collapsed": false
   },
   "outputs": [
    {
     "data": {
      "text/plain": [
       "array([20, 30, 40, 50])"
      ]
     },
     "execution_count": 35,
     "metadata": {},
     "output_type": "execute_result"
    }
   ],
   "source": [
    "a"
   ]
  },
  {
   "cell_type": "code",
   "execution_count": 36,
   "metadata": {
    "collapsed": false,
    "focus": false,
    "id": "9b21c965-2734-4f09-aae0-4d344b93e681",
    "slideshow": {
     "slide_type": "fragment"
    }
   },
   "outputs": [
    {
     "data": {
      "text/plain": [
       "array([20, 29, 38, 47])"
      ]
     },
     "execution_count": 36,
     "metadata": {},
     "output_type": "execute_result"
    }
   ],
   "source": [
    "c = a-b\n",
    "c"
   ]
  },
  {
   "cell_type": "code",
   "execution_count": 37,
   "metadata": {
    "collapsed": false,
    "focus": false,
    "id": "03828206-43b2-445f-b54d-7ebaca5585f5",
    "slideshow": {
     "slide_type": "fragment"
    }
   },
   "outputs": [
    {
     "data": {
      "text/plain": [
       "array([0, 1, 4, 9])"
      ]
     },
     "execution_count": 37,
     "metadata": {},
     "output_type": "execute_result"
    }
   ],
   "source": [
    "b**2"
   ]
  },
  {
   "cell_type": "markdown",
   "metadata": {
    "focus": false,
    "id": "e4c29549-9a0a-420c-9f86-99a798daa288",
    "slideshow": {
     "slide_type": "subslide"
    }
   },
   "source": [
    "## Indexing, Slicing and Iterating"
   ]
  },
  {
   "cell_type": "code",
   "execution_count": 38,
   "metadata": {
    "collapsed": false,
    "focus": false,
    "id": "100e8b85-16f4-43e0-9c47-67c60e1f81ed",
    "slideshow": {
     "slide_type": "fragment"
    }
   },
   "outputs": [],
   "source": [
    "# one-dimensional arrays work like lists:\n",
    "a = np.arange(10)**2"
   ]
  },
  {
   "cell_type": "code",
   "execution_count": 40,
   "metadata": {
    "collapsed": false
   },
   "outputs": [
    {
     "data": {
      "text/plain": [
       "array([ 0,  1,  4,  9, 16, 25, 36, 49, 64, 81])"
      ]
     },
     "execution_count": 40,
     "metadata": {},
     "output_type": "execute_result"
    }
   ],
   "source": [
    "np.arange(10)**2"
   ]
  },
  {
   "cell_type": "code",
   "execution_count": 21,
   "metadata": {
    "collapsed": false,
    "focus": false,
    "id": "26090d07-f5d6-4baa-aacc-979982af6f14",
    "slideshow": {
     "slide_type": "fragment"
    }
   },
   "outputs": [
    {
     "data": {
      "text/plain": [
       "array([ 0,  1,  4,  9, 16, 25, 36, 49, 64, 81])"
      ]
     },
     "execution_count": 21,
     "metadata": {},
     "output_type": "execute_result"
    }
   ],
   "source": [
    "a\n"
   ]
  },
  {
   "cell_type": "code",
   "execution_count": 44,
   "metadata": {
    "collapsed": false,
    "focus": false,
    "id": "8d56b369-acfc-4e82-b325-c1aba3ee35cd",
    "slideshow": {
     "slide_type": "fragment"
    }
   },
   "outputs": [
    {
     "data": {
      "text/plain": [
       "array([ 4,  9, 16])"
      ]
     },
     "execution_count": 44,
     "metadata": {},
     "output_type": "execute_result"
    }
   ],
   "source": [
    "a[2:5]"
   ]
  },
  {
   "cell_type": "code",
   "execution_count": 23,
   "metadata": {
    "collapsed": false,
    "focus": false,
    "id": "7dbe0ac8-d44b-4698-82c6-537afff33cea",
    "slideshow": {
     "slide_type": "subslide"
    }
   },
   "outputs": [],
   "source": [
    "# Multidimensional arrays use tuples with commas for indexing\n",
    "# with (row,column) conventions beginning, as always in Python, from 0"
   ]
  },
  {
   "cell_type": "code",
   "execution_count": 51,
   "metadata": {
    "collapsed": false,
    "focus": false,
    "id": "27ba2fb0-9c69-438f-9136-da9c2204b100",
    "slideshow": {
     "slide_type": "fragment"
    }
   },
   "outputs": [],
   "source": [
    "b = np.random.randint(1,100,(4,4))"
   ]
  },
  {
   "cell_type": "code",
   "execution_count": 52,
   "metadata": {
    "collapsed": false,
    "focus": false,
    "id": "845e0d23-74e7-4f8b-a6ca-cc7a8984b13b",
    "slideshow": {
     "slide_type": "fragment"
    }
   },
   "outputs": [
    {
     "data": {
      "text/plain": [
       "array([[85, 21, 56,  7],\n",
       "       [83, 78, 11, 67],\n",
       "       [61, 16, 43, 83],\n",
       "       [87, 44, 97,  2]])"
      ]
     },
     "execution_count": 52,
     "metadata": {},
     "output_type": "execute_result"
    }
   ],
   "source": [
    "b"
   ]
  },
  {
   "cell_type": "code",
   "execution_count": 53,
   "metadata": {
    "collapsed": false,
    "focus": false,
    "id": "58463e8a-312c-4ff9-970f-c8204d6dbc30",
    "slideshow": {
     "slide_type": "fragment"
    }
   },
   "outputs": [
    {
     "name": "stdout",
     "output_type": "stream",
     "text": [
      "83\n",
      "85\n"
     ]
    }
   ],
   "source": [
    "# Guess the output\n",
    "print(b[2,3])\n",
    "print(b[0,0])\n"
   ]
  },
  {
   "cell_type": "code",
   "execution_count": 54,
   "metadata": {
    "collapsed": false,
    "focus": false,
    "id": "77b7d441-34a9-4d52-aab7-563e966702c9",
    "slideshow": {
     "slide_type": "fragment"
    }
   },
   "outputs": [
    {
     "data": {
      "text/plain": [
       "(array([21, 78, 16]), array([21, 78, 16, 44]))"
      ]
     },
     "execution_count": 54,
     "metadata": {},
     "output_type": "execute_result"
    }
   ],
   "source": [
    "b[0:3,1],b[:,1]"
   ]
  },
  {
   "cell_type": "code",
   "execution_count": 55,
   "metadata": {
    "collapsed": false,
    "focus": false,
    "id": "9b24506c-d8e4-4f1b-8fdb-b9c835b980c9",
    "slideshow": {
     "slide_type": "fragment"
    }
   },
   "outputs": [
    {
     "data": {
      "text/plain": [
       "array([[83, 78, 11, 67],\n",
       "       [61, 16, 43, 83]])"
      ]
     },
     "execution_count": 55,
     "metadata": {},
     "output_type": "execute_result"
    }
   ],
   "source": [
    "b[1:3,:]"
   ]
  },
  {
   "cell_type": "markdown",
   "metadata": {
    "focus": false,
    "id": "39dee2d5-b969-40d1-9bcb-9061b29c317b",
    "slideshow": {
     "slide_type": "slide"
    }
   },
   "source": [
    "# Introduction to Pandas\n",
    "\n",
    "* Object Creation\n",
    "* Viewing data\n",
    "* Selection\n",
    "* Missing data\n",
    "* Grouping\n",
    "* Reshaping\n",
    "* Time series\n",
    "* Plotting\n",
    "* i/o\n",
    " \n",
    "\n",
    "_pandas.pydata.org_"
   ]
  },
  {
   "cell_type": "markdown",
   "metadata": {
    "focus": false,
    "id": "7306e5f4-bc93-4370-9156-7ad4bb0b3662",
    "slideshow": {
     "slide_type": "slide"
    }
   },
   "source": [
    "## Pandas Overview\n",
    "\n",
    "_Source: [pandas.pydata.org](http://pandas.pydata.org/pandas-docs/stable/10min.html)_"
   ]
  },
  {
   "cell_type": "code",
   "execution_count": 56,
   "metadata": {
    "collapsed": false,
    "focus": false,
    "id": "25de189f-b377-4fac-896f-757f71485109",
    "slideshow": {
     "slide_type": "subslide"
    }
   },
   "outputs": [],
   "source": [
    "import pandas as pd\n",
    "import numpy as np\n",
    "import matplotlib.pyplot as plt"
   ]
  },
  {
   "cell_type": "code",
   "execution_count": 64,
   "metadata": {
    "collapsed": false
   },
   "outputs": [
    {
     "data": {
      "text/plain": [
       "DatetimeIndex(['2017-01-31', '2017-02-28', '2017-03-31', '2017-04-30',\n",
       "               '2017-05-31', '2017-06-30', '2017-07-31', '2017-08-31',\n",
       "               '2017-09-30', '2017-10-31'],\n",
       "              dtype='datetime64[ns]', freq='M')"
      ]
     },
     "execution_count": 64,
     "metadata": {},
     "output_type": "execute_result"
    }
   ],
   "source": [
    "dates = pd.date_range('20170101', periods = 10, freq = 'M')\n",
    "dates"
   ]
  },
  {
   "cell_type": "code",
   "execution_count": 65,
   "metadata": {
    "collapsed": false,
    "focus": false,
    "id": "c56e480d-bc62-4502-89ae-1b3c5f8f9c65",
    "slideshow": {
     "slide_type": "subslide"
    }
   },
   "outputs": [
    {
     "data": {
      "text/plain": [
       "DatetimeIndex(['2014-01-01', '2014-01-02', '2014-01-03', '2014-01-04',\n",
       "               '2014-01-05', '2014-01-06'],\n",
       "              dtype='datetime64[ns]', freq='D')"
      ]
     },
     "execution_count": 65,
     "metadata": {},
     "output_type": "execute_result"
    }
   ],
   "source": [
    "dates = pd.date_range('20140101',periods=6)\n",
    "dates"
   ]
  },
  {
   "cell_type": "code",
   "execution_count": 82,
   "metadata": {
    "collapsed": false
   },
   "outputs": [
    {
     "data": {
      "text/plain": [
       "['A', 'B', 'C', 'D']"
      ]
     },
     "execution_count": 82,
     "metadata": {},
     "output_type": "execute_result"
    }
   ],
   "source": [
    "df = pd.DataFrame(np.random.randn(6,4), index = dates, columns = list('ABCD'))\n",
    "df\n",
    "\n",
    "df.columns\n",
    "df.columns.tolist()"
   ]
  },
  {
   "cell_type": "code",
   "execution_count": 34,
   "metadata": {
    "collapsed": false,
    "focus": false,
    "id": "c1eaf66c-b3b0-4286-b8cf-ac023341c523",
    "slideshow": {
     "slide_type": "subslide"
    }
   },
   "outputs": [
    {
     "data": {
      "text/plain": [
       "['A', 'B', 'C', 'D']"
      ]
     },
     "execution_count": 34,
     "metadata": {},
     "output_type": "execute_result"
    }
   ],
   "source": [
    "df = pd.DataFrame(np.random.randn(6,4),index=dates,columns=list('ABCD'))\n",
    "z = pd.DataFrame(index = df.index, columns = df.columns)\n",
    "\n",
    "df.columns\n",
    "df.head()\n",
    "df\n",
    "df.columns.tolist()"
   ]
  },
  {
   "cell_type": "code",
   "execution_count": 88,
   "metadata": {
    "collapsed": false
   },
   "outputs": [
    {
     "data": {
      "text/plain": [
       "array([[ 0.08479958, -1.05639975, -1.00249096, -1.39933177],\n",
       "       [-1.79780325,  0.04062475,  0.13787376, -1.63515499],\n",
       "       [ 1.02157145, -1.05912839,  0.11547945,  0.13416529],\n",
       "       [ 0.13120369, -1.82257964, -1.30058931, -0.33735082],\n",
       "       [ 1.07111852,  0.49829773,  0.62188172,  0.62732908],\n",
       "       [-0.03498211,  0.21559369,  0.6927561 ,  2.15910341]])"
      ]
     },
     "execution_count": 88,
     "metadata": {},
     "output_type": "execute_result"
    }
   ],
   "source": [
    "df.as_matrix()"
   ]
  },
  {
   "cell_type": "code",
   "execution_count": 40,
   "metadata": {
    "collapsed": false,
    "focus": false,
    "id": "8e7170fc-f502-45b0-b82a-bdac82dabf7e",
    "slideshow": {
     "slide_type": "subslide"
    }
   },
   "outputs": [
    {
     "data": {
      "text/plain": [
       "array([[ 0.13929369, -0.00235637, -0.18033284, -1.63232174,  0.06290507,\n",
       "         0.82107611],\n",
       "       [-0.35066765, -0.50771852,  0.27557419, -1.09850429, -0.93442712,\n",
       "        -0.57725069],\n",
       "       [ 0.06463381,  0.37928125,  0.62280565,  0.36955739, -0.16080493,\n",
       "         0.52325667],\n",
       "       [-0.880649  ,  0.83401814,  0.17779141, -1.70392255,  0.93694282,\n",
       "        -0.13632025]])"
      ]
     },
     "execution_count": 40,
     "metadata": {},
     "output_type": "execute_result"
    }
   ],
   "source": [
    "# Index, columns, underlying numpy data\n",
    "df.T #Transpose\n",
    "#df\n",
    "#df.as_matrix() #converts into array\n",
    "#df.as_matrix().T #converts into array into transpose"
   ]
  },
  {
   "cell_type": "code",
   "execution_count": 92,
   "metadata": {
    "collapsed": false
   },
   "outputs": [
    {
     "data": {
      "text/plain": [
       "{'element'}"
      ]
     },
     "execution_count": 92,
     "metadata": {},
     "output_type": "execute_result"
    }
   ],
   "source": [
    "dictionary = {\"key\", \"value\"}\n",
    "lists = {\"element\"}\n",
    "lists"
   ]
  },
  {
   "cell_type": "code",
   "execution_count": 41,
   "metadata": {
    "collapsed": true
   },
   "outputs": [],
   "source": [
    "dictionary = {\"key\":\"value\"}\n",
    "lists = {\"element\"}"
   ]
  },
  {
   "cell_type": "code",
   "execution_count": 99,
   "metadata": {
    "collapsed": false
   },
   "outputs": [
    {
     "data": {
      "text/plain": [
       "[0, 1, 2, 3]"
      ]
     },
     "execution_count": 99,
     "metadata": {},
     "output_type": "execute_result"
    }
   ],
   "source": [
    "list(range(4))"
   ]
  },
  {
   "cell_type": "code",
   "execution_count": 103,
   "metadata": {
    "collapsed": false
   },
   "outputs": [
    {
     "data": {
      "text/html": [
       "<div>\n",
       "<table border=\"1\" class=\"dataframe\">\n",
       "  <thead>\n",
       "    <tr style=\"text-align: right;\">\n",
       "      <th></th>\n",
       "      <th>A</th>\n",
       "      <th>B</th>\n",
       "      <th>C</th>\n",
       "      <th>D</th>\n",
       "      <th>E</th>\n",
       "      <th>F</th>\n",
       "    </tr>\n",
       "  </thead>\n",
       "  <tbody>\n",
       "    <tr>\n",
       "      <th>0</th>\n",
       "      <td>1.0</td>\n",
       "      <td>2014-03-01</td>\n",
       "      <td>1.0</td>\n",
       "      <td>3</td>\n",
       "      <td>foo</td>\n",
       "      <td>2014-01-01</td>\n",
       "    </tr>\n",
       "    <tr>\n",
       "      <th>1</th>\n",
       "      <td>1.0</td>\n",
       "      <td>2014-03-01</td>\n",
       "      <td>1.0</td>\n",
       "      <td>3</td>\n",
       "      <td>foo</td>\n",
       "      <td>2014-01-02</td>\n",
       "    </tr>\n",
       "    <tr>\n",
       "      <th>2</th>\n",
       "      <td>1.0</td>\n",
       "      <td>2014-03-01</td>\n",
       "      <td>1.0</td>\n",
       "      <td>3</td>\n",
       "      <td>foo</td>\n",
       "      <td>2014-01-03</td>\n",
       "    </tr>\n",
       "    <tr>\n",
       "      <th>3</th>\n",
       "      <td>1.0</td>\n",
       "      <td>2014-03-01</td>\n",
       "      <td>1.0</td>\n",
       "      <td>3</td>\n",
       "      <td>foo</td>\n",
       "      <td>2014-01-04</td>\n",
       "    </tr>\n",
       "  </tbody>\n",
       "</table>\n",
       "</div>"
      ],
      "text/plain": [
       "     A          B    C  D    E          F\n",
       "0  1.0 2014-03-01  1.0  3  foo 2014-01-01\n",
       "1  1.0 2014-03-01  1.0  3  foo 2014-01-02\n",
       "2  1.0 2014-03-01  1.0  3  foo 2014-01-03\n",
       "3  1.0 2014-03-01  1.0  3  foo 2014-01-04"
      ]
     },
     "execution_count": 103,
     "metadata": {},
     "output_type": "execute_result"
    }
   ],
   "source": [
    "df3 = pd.DataFrame({'A' : 1., \n",
    "                    'B' : pd.Timestamp('20140301'),\n",
    "                    'C': pd.Series(1, index = list(range(4)), dtype = 'float32'), \n",
    "                    'D' : np.array([3]*4, dtype ='int32'), \n",
    "                    'E': 'foo', 'F': pd.date_range('2014-01-01', periods = 4)})\n",
    "df3"
   ]
  },
  {
   "cell_type": "code",
   "execution_count": 104,
   "metadata": {
    "collapsed": false,
    "focus": false,
    "id": "0c3d9fa3-7522-4e18-8be5-74661547954f",
    "slideshow": {
     "slide_type": "subslide"
    }
   },
   "outputs": [
    {
     "data": {
      "text/html": [
       "<div>\n",
       "<table border=\"1\" class=\"dataframe\">\n",
       "  <thead>\n",
       "    <tr style=\"text-align: right;\">\n",
       "      <th></th>\n",
       "      <th>A</th>\n",
       "      <th>B</th>\n",
       "      <th>C</th>\n",
       "      <th>D</th>\n",
       "      <th>E</th>\n",
       "    </tr>\n",
       "  </thead>\n",
       "  <tbody>\n",
       "    <tr>\n",
       "      <th>0</th>\n",
       "      <td>1.0</td>\n",
       "      <td>2013-01-02</td>\n",
       "      <td>1.0</td>\n",
       "      <td>3</td>\n",
       "      <td>foo</td>\n",
       "    </tr>\n",
       "    <tr>\n",
       "      <th>1</th>\n",
       "      <td>1.0</td>\n",
       "      <td>2013-01-02</td>\n",
       "      <td>1.0</td>\n",
       "      <td>3</td>\n",
       "      <td>foo</td>\n",
       "    </tr>\n",
       "    <tr>\n",
       "      <th>2</th>\n",
       "      <td>1.0</td>\n",
       "      <td>2013-01-02</td>\n",
       "      <td>1.0</td>\n",
       "      <td>3</td>\n",
       "      <td>foo</td>\n",
       "    </tr>\n",
       "    <tr>\n",
       "      <th>3</th>\n",
       "      <td>1.0</td>\n",
       "      <td>2013-01-02</td>\n",
       "      <td>1.0</td>\n",
       "      <td>3</td>\n",
       "      <td>foo</td>\n",
       "    </tr>\n",
       "  </tbody>\n",
       "</table>\n",
       "</div>"
      ],
      "text/plain": [
       "     A          B    C  D    E\n",
       "0  1.0 2013-01-02  1.0  3  foo\n",
       "1  1.0 2013-01-02  1.0  3  foo\n",
       "2  1.0 2013-01-02  1.0  3  foo\n",
       "3  1.0 2013-01-02  1.0  3  foo"
      ]
     },
     "execution_count": 104,
     "metadata": {},
     "output_type": "execute_result"
    }
   ],
   "source": [
    "#Create a dataframe\n",
    "df2 = pd.DataFrame({ 'A' : 1.,\n",
    "                         'B' : pd.Timestamp('20130102'),\n",
    "                         'C' : pd.Series(1,index=list(range(4)),dtype='float32'),\n",
    "                         'D' : np.array([3] * 4,dtype='int32'),\n",
    "                         'E' : 'foo' })\n",
    "    \n",
    "\n",
    "df2"
   ]
  },
  {
   "cell_type": "code",
   "execution_count": 115,
   "metadata": {
    "collapsed": false,
    "focus": false,
    "id": "4c3d6e0a-6a4f-48dd-87c8-71d94577f429",
    "slideshow": {
     "slide_type": "subslide"
    }
   },
   "outputs": [
    {
     "data": {
      "text/plain": [
       "numpy.float64"
      ]
     },
     "execution_count": 115,
     "metadata": {},
     "output_type": "execute_result"
    }
   ],
   "source": [
    "# With specific dtypes\n",
    "df2.dtypes\n",
    "type(df2['A'][0])"
   ]
  },
  {
   "cell_type": "markdown",
   "metadata": {
    "focus": false,
    "id": "2792318e-6f4c-4ae8-a937-1964456f91f8",
    "slideshow": {
     "slide_type": "slide"
    }
   },
   "source": [
    "#### Viewing Data"
   ]
  },
  {
   "cell_type": "code",
   "execution_count": 119,
   "metadata": {
    "collapsed": false,
    "focus": false,
    "id": "dee84a01-9e14-4996-a334-502fd8234ad4",
    "slideshow": {
     "slide_type": "subslide"
    }
   },
   "outputs": [
    {
     "data": {
      "text/html": [
       "<div>\n",
       "<table border=\"1\" class=\"dataframe\">\n",
       "  <thead>\n",
       "    <tr style=\"text-align: right;\">\n",
       "      <th></th>\n",
       "      <th>A</th>\n",
       "      <th>B</th>\n",
       "      <th>C</th>\n",
       "      <th>D</th>\n",
       "    </tr>\n",
       "  </thead>\n",
       "  <tbody>\n",
       "    <tr>\n",
       "      <th>2014-01-01</th>\n",
       "      <td>0.084800</td>\n",
       "      <td>-1.056400</td>\n",
       "      <td>-1.002491</td>\n",
       "      <td>-1.399332</td>\n",
       "    </tr>\n",
       "    <tr>\n",
       "      <th>2014-01-02</th>\n",
       "      <td>-1.797803</td>\n",
       "      <td>0.040625</td>\n",
       "      <td>0.137874</td>\n",
       "      <td>-1.635155</td>\n",
       "    </tr>\n",
       "    <tr>\n",
       "      <th>2014-01-03</th>\n",
       "      <td>1.021571</td>\n",
       "      <td>-1.059128</td>\n",
       "      <td>0.115479</td>\n",
       "      <td>0.134165</td>\n",
       "    </tr>\n",
       "    <tr>\n",
       "      <th>2014-01-04</th>\n",
       "      <td>0.131204</td>\n",
       "      <td>-1.822580</td>\n",
       "      <td>-1.300589</td>\n",
       "      <td>-0.337351</td>\n",
       "    </tr>\n",
       "    <tr>\n",
       "      <th>2014-01-05</th>\n",
       "      <td>1.071119</td>\n",
       "      <td>0.498298</td>\n",
       "      <td>0.621882</td>\n",
       "      <td>0.627329</td>\n",
       "    </tr>\n",
       "  </tbody>\n",
       "</table>\n",
       "</div>"
      ],
      "text/plain": [
       "                   A         B         C         D\n",
       "2014-01-01  0.084800 -1.056400 -1.002491 -1.399332\n",
       "2014-01-02 -1.797803  0.040625  0.137874 -1.635155\n",
       "2014-01-03  1.021571 -1.059128  0.115479  0.134165\n",
       "2014-01-04  0.131204 -1.822580 -1.300589 -0.337351\n",
       "2014-01-05  1.071119  0.498298  0.621882  0.627329"
      ]
     },
     "execution_count": 119,
     "metadata": {},
     "output_type": "execute_result"
    }
   ],
   "source": [
    "df.head()\n",
    "##df.ix['2014-01-01']\n",
    "##df.loc['2014-01-01','B']\n",
    "## df.loc['2014-01-01','B'] = 999\n",
    "##df.loc[:,\"Non-Numeric\"] = [\"one\", \"two\", \"three\", \"four\", \"five\", \"six\"]"
   ]
  },
  {
   "cell_type": "code",
   "execution_count": 139,
   "metadata": {
    "collapsed": false
   },
   "outputs": [
    {
     "data": {
      "text/html": [
       "<div>\n",
       "<table border=\"1\" class=\"dataframe\">\n",
       "  <thead>\n",
       "    <tr style=\"text-align: right;\">\n",
       "      <th></th>\n",
       "      <th>A</th>\n",
       "      <th>B</th>\n",
       "      <th>C</th>\n",
       "      <th>D</th>\n",
       "      <th>Non-Numeric</th>\n",
       "    </tr>\n",
       "  </thead>\n",
       "  <tbody>\n",
       "    <tr>\n",
       "      <th>2014-01-01</th>\n",
       "      <td>0.084800</td>\n",
       "      <td>999.000000</td>\n",
       "      <td>-1.002491</td>\n",
       "      <td>-1.399332</td>\n",
       "      <td>one</td>\n",
       "    </tr>\n",
       "    <tr>\n",
       "      <th>2014-01-02</th>\n",
       "      <td>-1.797803</td>\n",
       "      <td>0.040625</td>\n",
       "      <td>0.137874</td>\n",
       "      <td>-1.635155</td>\n",
       "      <td>two</td>\n",
       "    </tr>\n",
       "    <tr>\n",
       "      <th>2014-01-03</th>\n",
       "      <td>1.021571</td>\n",
       "      <td>-1.059128</td>\n",
       "      <td>0.115479</td>\n",
       "      <td>0.134165</td>\n",
       "      <td>three</td>\n",
       "    </tr>\n",
       "    <tr>\n",
       "      <th>2014-01-04</th>\n",
       "      <td>0.131204</td>\n",
       "      <td>-1.822580</td>\n",
       "      <td>-1.300589</td>\n",
       "      <td>-0.337351</td>\n",
       "      <td>four</td>\n",
       "    </tr>\n",
       "    <tr>\n",
       "      <th>2014-01-05</th>\n",
       "      <td>1.071119</td>\n",
       "      <td>0.498298</td>\n",
       "      <td>0.621882</td>\n",
       "      <td>0.627329</td>\n",
       "      <td>five</td>\n",
       "    </tr>\n",
       "    <tr>\n",
       "      <th>2014-01-06</th>\n",
       "      <td>-0.034982</td>\n",
       "      <td>0.215594</td>\n",
       "      <td>0.692756</td>\n",
       "      <td>2.159103</td>\n",
       "      <td>six</td>\n",
       "    </tr>\n",
       "  </tbody>\n",
       "</table>\n",
       "</div>"
      ],
      "text/plain": [
       "                   A           B         C         D Non-Numeric\n",
       "2014-01-01  0.084800  999.000000 -1.002491 -1.399332         one\n",
       "2014-01-02 -1.797803    0.040625  0.137874 -1.635155         two\n",
       "2014-01-03  1.021571   -1.059128  0.115479  0.134165       three\n",
       "2014-01-04  0.131204   -1.822580 -1.300589 -0.337351        four\n",
       "2014-01-05  1.071119    0.498298  0.621882  0.627329        five\n",
       "2014-01-06 -0.034982    0.215594  0.692756  2.159103         six"
      ]
     },
     "execution_count": 139,
     "metadata": {},
     "output_type": "execute_result"
    }
   ],
   "source": [
    "df.loc[:,\"Non-Numeric\"] = [\"one\", \"two\", \"three\", \"four\", \"five\", \"six\"]\n",
    "df"
   ]
  },
  {
   "cell_type": "code",
   "execution_count": 134,
   "metadata": {
    "collapsed": false,
    "focus": false,
    "id": "791189f7-053a-44bd-b13c-2c6ba2cb4df5",
    "slideshow": {
     "slide_type": "fragment"
    }
   },
   "outputs": [
    {
     "data": {
      "text/html": [
       "<div>\n",
       "<table border=\"1\" class=\"dataframe\">\n",
       "  <thead>\n",
       "    <tr style=\"text-align: right;\">\n",
       "      <th></th>\n",
       "      <th>A</th>\n",
       "      <th>B</th>\n",
       "      <th>C</th>\n",
       "      <th>D</th>\n",
       "    </tr>\n",
       "  </thead>\n",
       "  <tbody>\n",
       "    <tr>\n",
       "      <th>2014-01-02</th>\n",
       "      <td>-1.797803</td>\n",
       "      <td>0.040625</td>\n",
       "      <td>0.137874</td>\n",
       "      <td>-1.635155</td>\n",
       "    </tr>\n",
       "    <tr>\n",
       "      <th>2014-01-03</th>\n",
       "      <td>1.021571</td>\n",
       "      <td>-1.059128</td>\n",
       "      <td>0.115479</td>\n",
       "      <td>0.134165</td>\n",
       "    </tr>\n",
       "    <tr>\n",
       "      <th>2014-01-04</th>\n",
       "      <td>0.131204</td>\n",
       "      <td>-1.822580</td>\n",
       "      <td>-1.300589</td>\n",
       "      <td>-0.337351</td>\n",
       "    </tr>\n",
       "    <tr>\n",
       "      <th>2014-01-05</th>\n",
       "      <td>1.071119</td>\n",
       "      <td>0.498298</td>\n",
       "      <td>0.621882</td>\n",
       "      <td>0.627329</td>\n",
       "    </tr>\n",
       "    <tr>\n",
       "      <th>2014-01-06</th>\n",
       "      <td>-0.034982</td>\n",
       "      <td>0.215594</td>\n",
       "      <td>0.692756</td>\n",
       "      <td>2.159103</td>\n",
       "    </tr>\n",
       "  </tbody>\n",
       "</table>\n",
       "</div>"
      ],
      "text/plain": [
       "                   A         B         C         D\n",
       "2014-01-02 -1.797803  0.040625  0.137874 -1.635155\n",
       "2014-01-03  1.021571 -1.059128  0.115479  0.134165\n",
       "2014-01-04  0.131204 -1.822580 -1.300589 -0.337351\n",
       "2014-01-05  1.071119  0.498298  0.621882  0.627329\n",
       "2014-01-06 -0.034982  0.215594  0.692756  2.159103"
      ]
     },
     "execution_count": 134,
     "metadata": {},
     "output_type": "execute_result"
    }
   ],
   "source": [
    "df.tail()"
   ]
  },
  {
   "cell_type": "code",
   "execution_count": 140,
   "metadata": {
    "collapsed": false,
    "focus": false,
    "id": "fc1c8091-670a-4f81-9d6f-158958c3b413",
    "slideshow": {
     "slide_type": "subslide"
    }
   },
   "outputs": [
    {
     "data": {
      "text/plain": [
       "DatetimeIndex(['2014-01-01', '2014-01-02', '2014-01-03', '2014-01-04',\n",
       "               '2014-01-05', '2014-01-06'],\n",
       "              dtype='datetime64[ns]', freq='D')"
      ]
     },
     "execution_count": 140,
     "metadata": {},
     "output_type": "execute_result"
    }
   ],
   "source": [
    "df.index"
   ]
  },
  {
   "cell_type": "code",
   "execution_count": 141,
   "metadata": {
    "collapsed": false,
    "focus": false,
    "id": "337688a9-1ab9-4909-80c8-159cec177b2e",
    "slideshow": {
     "slide_type": "subslide"
    }
   },
   "outputs": [
    {
     "data": {
      "text/html": [
       "<div>\n",
       "<table border=\"1\" class=\"dataframe\">\n",
       "  <thead>\n",
       "    <tr style=\"text-align: right;\">\n",
       "      <th></th>\n",
       "      <th>A</th>\n",
       "      <th>B</th>\n",
       "      <th>C</th>\n",
       "      <th>D</th>\n",
       "    </tr>\n",
       "  </thead>\n",
       "  <tbody>\n",
       "    <tr>\n",
       "      <th>count</th>\n",
       "      <td>6.000000</td>\n",
       "      <td>6.000000</td>\n",
       "      <td>6.000000</td>\n",
       "      <td>6.000000</td>\n",
       "    </tr>\n",
       "    <tr>\n",
       "      <th>mean</th>\n",
       "      <td>0.079318</td>\n",
       "      <td>166.145468</td>\n",
       "      <td>-0.122515</td>\n",
       "      <td>-0.075207</td>\n",
       "    </tr>\n",
       "    <tr>\n",
       "      <th>std</th>\n",
       "      <td>1.040277</td>\n",
       "      <td>408.014667</td>\n",
       "      <td>0.837312</td>\n",
       "      <td>1.398928</td>\n",
       "    </tr>\n",
       "    <tr>\n",
       "      <th>min</th>\n",
       "      <td>-1.797803</td>\n",
       "      <td>-1.822580</td>\n",
       "      <td>-1.300589</td>\n",
       "      <td>-1.635155</td>\n",
       "    </tr>\n",
       "    <tr>\n",
       "      <th>25%</th>\n",
       "      <td>-0.005037</td>\n",
       "      <td>-0.784190</td>\n",
       "      <td>-0.722998</td>\n",
       "      <td>-1.133837</td>\n",
       "    </tr>\n",
       "    <tr>\n",
       "      <th>50%</th>\n",
       "      <td>0.108002</td>\n",
       "      <td>0.128109</td>\n",
       "      <td>0.126677</td>\n",
       "      <td>-0.101593</td>\n",
       "    </tr>\n",
       "    <tr>\n",
       "      <th>75%</th>\n",
       "      <td>0.798980</td>\n",
       "      <td>0.427622</td>\n",
       "      <td>0.500880</td>\n",
       "      <td>0.504038</td>\n",
       "    </tr>\n",
       "    <tr>\n",
       "      <th>max</th>\n",
       "      <td>1.071119</td>\n",
       "      <td>999.000000</td>\n",
       "      <td>0.692756</td>\n",
       "      <td>2.159103</td>\n",
       "    </tr>\n",
       "  </tbody>\n",
       "</table>\n",
       "</div>"
      ],
      "text/plain": [
       "              A           B         C         D\n",
       "count  6.000000    6.000000  6.000000  6.000000\n",
       "mean   0.079318  166.145468 -0.122515 -0.075207\n",
       "std    1.040277  408.014667  0.837312  1.398928\n",
       "min   -1.797803   -1.822580 -1.300589 -1.635155\n",
       "25%   -0.005037   -0.784190 -0.722998 -1.133837\n",
       "50%    0.108002    0.128109  0.126677 -0.101593\n",
       "75%    0.798980    0.427622  0.500880  0.504038\n",
       "max    1.071119  999.000000  0.692756  2.159103"
      ]
     },
     "execution_count": 141,
     "metadata": {},
     "output_type": "execute_result"
    }
   ],
   "source": [
    "df.describe()"
   ]
  },
  {
   "cell_type": "code",
   "execution_count": 142,
   "metadata": {
    "collapsed": false
   },
   "outputs": [
    {
     "data": {
      "text/html": [
       "<div>\n",
       "<table border=\"1\" class=\"dataframe\">\n",
       "  <thead>\n",
       "    <tr style=\"text-align: right;\">\n",
       "      <th></th>\n",
       "      <th>A</th>\n",
       "      <th>B</th>\n",
       "      <th>C</th>\n",
       "      <th>D</th>\n",
       "      <th>Non-Numeric</th>\n",
       "    </tr>\n",
       "  </thead>\n",
       "  <tbody>\n",
       "    <tr>\n",
       "      <th>2014-01-01</th>\n",
       "      <td>0.084800</td>\n",
       "      <td>999.000000</td>\n",
       "      <td>-1.002491</td>\n",
       "      <td>-1.399332</td>\n",
       "      <td>one</td>\n",
       "    </tr>\n",
       "    <tr>\n",
       "      <th>2014-01-02</th>\n",
       "      <td>-1.797803</td>\n",
       "      <td>0.040625</td>\n",
       "      <td>0.137874</td>\n",
       "      <td>-1.635155</td>\n",
       "      <td>two</td>\n",
       "    </tr>\n",
       "    <tr>\n",
       "      <th>2014-01-03</th>\n",
       "      <td>1.021571</td>\n",
       "      <td>-1.059128</td>\n",
       "      <td>0.115479</td>\n",
       "      <td>0.134165</td>\n",
       "      <td>three</td>\n",
       "    </tr>\n",
       "    <tr>\n",
       "      <th>2014-01-04</th>\n",
       "      <td>0.131204</td>\n",
       "      <td>-1.822580</td>\n",
       "      <td>-1.300589</td>\n",
       "      <td>-0.337351</td>\n",
       "      <td>four</td>\n",
       "    </tr>\n",
       "    <tr>\n",
       "      <th>2014-01-05</th>\n",
       "      <td>1.071119</td>\n",
       "      <td>0.498298</td>\n",
       "      <td>0.621882</td>\n",
       "      <td>0.627329</td>\n",
       "      <td>five</td>\n",
       "    </tr>\n",
       "    <tr>\n",
       "      <th>2014-01-06</th>\n",
       "      <td>-0.034982</td>\n",
       "      <td>0.215594</td>\n",
       "      <td>0.692756</td>\n",
       "      <td>2.159103</td>\n",
       "      <td>six</td>\n",
       "    </tr>\n",
       "  </tbody>\n",
       "</table>\n",
       "</div>"
      ],
      "text/plain": [
       "                   A           B         C         D Non-Numeric\n",
       "2014-01-01  0.084800  999.000000 -1.002491 -1.399332         one\n",
       "2014-01-02 -1.797803    0.040625  0.137874 -1.635155         two\n",
       "2014-01-03  1.021571   -1.059128  0.115479  0.134165       three\n",
       "2014-01-04  0.131204   -1.822580 -1.300589 -0.337351        four\n",
       "2014-01-05  1.071119    0.498298  0.621882  0.627329        five\n",
       "2014-01-06 -0.034982    0.215594  0.692756  2.159103         six"
      ]
     },
     "execution_count": 142,
     "metadata": {},
     "output_type": "execute_result"
    }
   ],
   "source": [
    "df"
   ]
  },
  {
   "cell_type": "code",
   "execution_count": 150,
   "metadata": {
    "collapsed": false
   },
   "outputs": [
    {
     "data": {
      "text/html": [
       "<div>\n",
       "<table border=\"1\" class=\"dataframe\">\n",
       "  <thead>\n",
       "    <tr style=\"text-align: right;\">\n",
       "      <th></th>\n",
       "      <th>A</th>\n",
       "      <th>B</th>\n",
       "      <th>C</th>\n",
       "      <th>D</th>\n",
       "      <th>Non-Numeric</th>\n",
       "    </tr>\n",
       "  </thead>\n",
       "  <tbody>\n",
       "    <tr>\n",
       "      <th>2014-01-01</th>\n",
       "      <td>0.084800</td>\n",
       "      <td>999.000000</td>\n",
       "      <td>-1.002491</td>\n",
       "      <td>-1.399332</td>\n",
       "      <td>one</td>\n",
       "    </tr>\n",
       "    <tr>\n",
       "      <th>2014-01-02</th>\n",
       "      <td>-1.797803</td>\n",
       "      <td>0.040625</td>\n",
       "      <td>0.137874</td>\n",
       "      <td>-1.635155</td>\n",
       "      <td>two</td>\n",
       "    </tr>\n",
       "    <tr>\n",
       "      <th>2014-01-03</th>\n",
       "      <td>1.021571</td>\n",
       "      <td>-1.059128</td>\n",
       "      <td>0.115479</td>\n",
       "      <td>0.134165</td>\n",
       "      <td>three</td>\n",
       "    </tr>\n",
       "    <tr>\n",
       "      <th>2014-01-04</th>\n",
       "      <td>0.131204</td>\n",
       "      <td>-1.822580</td>\n",
       "      <td>-1.300589</td>\n",
       "      <td>-0.337351</td>\n",
       "      <td>four</td>\n",
       "    </tr>\n",
       "    <tr>\n",
       "      <th>2014-01-05</th>\n",
       "      <td>1.071119</td>\n",
       "      <td>0.498298</td>\n",
       "      <td>0.621882</td>\n",
       "      <td>0.627329</td>\n",
       "      <td>five</td>\n",
       "    </tr>\n",
       "    <tr>\n",
       "      <th>2014-01-06</th>\n",
       "      <td>-0.034982</td>\n",
       "      <td>0.215594</td>\n",
       "      <td>0.692756</td>\n",
       "      <td>2.159103</td>\n",
       "      <td>six</td>\n",
       "    </tr>\n",
       "  </tbody>\n",
       "</table>\n",
       "</div>"
      ],
      "text/plain": [
       "                   A           B         C         D Non-Numeric\n",
       "2014-01-01  0.084800  999.000000 -1.002491 -1.399332         one\n",
       "2014-01-02 -1.797803    0.040625  0.137874 -1.635155         two\n",
       "2014-01-03  1.021571   -1.059128  0.115479  0.134165       three\n",
       "2014-01-04  0.131204   -1.822580 -1.300589 -0.337351        four\n",
       "2014-01-05  1.071119    0.498298  0.621882  0.627329        five\n",
       "2014-01-06 -0.034982    0.215594  0.692756  2.159103         six"
      ]
     },
     "execution_count": 150,
     "metadata": {},
     "output_type": "execute_result"
    }
   ],
   "source": [
    "df.sort_values(by = 'A', ascending = False)\n",
    "df.sort_index(ascending = True)"
   ]
  },
  {
   "cell_type": "code",
   "execution_count": 158,
   "metadata": {
    "collapsed": false,
    "focus": false,
    "id": "29c9b7a6-9d06-4f3b-b9d5-6ebc09cd561f",
    "slideshow": {
     "slide_type": "subslide"
    }
   },
   "outputs": [
    {
     "data": {
      "text/html": [
       "<div>\n",
       "<table border=\"1\" class=\"dataframe\">\n",
       "  <thead>\n",
       "    <tr style=\"text-align: right;\">\n",
       "      <th></th>\n",
       "      <th>A</th>\n",
       "      <th>B</th>\n",
       "      <th>C</th>\n",
       "      <th>D</th>\n",
       "      <th>Non-Numeric</th>\n",
       "    </tr>\n",
       "  </thead>\n",
       "  <tbody>\n",
       "    <tr>\n",
       "      <th>2014-01-01</th>\n",
       "      <td>0.084800</td>\n",
       "      <td>999.000000</td>\n",
       "      <td>-1.002491</td>\n",
       "      <td>-1.399332</td>\n",
       "      <td>one</td>\n",
       "    </tr>\n",
       "    <tr>\n",
       "      <th>2014-01-02</th>\n",
       "      <td>-1.797803</td>\n",
       "      <td>0.040625</td>\n",
       "      <td>0.137874</td>\n",
       "      <td>-1.635155</td>\n",
       "      <td>two</td>\n",
       "    </tr>\n",
       "    <tr>\n",
       "      <th>2014-01-03</th>\n",
       "      <td>1.021571</td>\n",
       "      <td>-1.059128</td>\n",
       "      <td>0.115479</td>\n",
       "      <td>0.134165</td>\n",
       "      <td>three</td>\n",
       "    </tr>\n",
       "    <tr>\n",
       "      <th>2014-01-04</th>\n",
       "      <td>0.131204</td>\n",
       "      <td>-1.822580</td>\n",
       "      <td>-1.300589</td>\n",
       "      <td>-0.337351</td>\n",
       "      <td>four</td>\n",
       "    </tr>\n",
       "    <tr>\n",
       "      <th>2014-01-05</th>\n",
       "      <td>1.071119</td>\n",
       "      <td>0.498298</td>\n",
       "      <td>0.621882</td>\n",
       "      <td>0.627329</td>\n",
       "      <td>five</td>\n",
       "    </tr>\n",
       "    <tr>\n",
       "      <th>2014-01-06</th>\n",
       "      <td>-0.034982</td>\n",
       "      <td>0.215594</td>\n",
       "      <td>0.692756</td>\n",
       "      <td>2.159103</td>\n",
       "      <td>six</td>\n",
       "    </tr>\n",
       "  </tbody>\n",
       "</table>\n",
       "</div>"
      ],
      "text/plain": [
       "                   A           B         C         D Non-Numeric\n",
       "2014-01-01  0.084800  999.000000 -1.002491 -1.399332         one\n",
       "2014-01-02 -1.797803    0.040625  0.137874 -1.635155         two\n",
       "2014-01-03  1.021571   -1.059128  0.115479  0.134165       three\n",
       "2014-01-04  0.131204   -1.822580 -1.300589 -0.337351        four\n",
       "2014-01-05  1.071119    0.498298  0.621882  0.627329        five\n",
       "2014-01-06 -0.034982    0.215594  0.692756  2.159103         six"
      ]
     },
     "execution_count": 158,
     "metadata": {},
     "output_type": "execute_result"
    }
   ],
   "source": [
    "df = df.sort_values(by='B', ascending = True) #Default is true\n",
    "df\n",
    "\n",
    "df = df.sort_index(ascending = True)\n",
    "df\n",
    "\n",
    "##collist = df.columns.tolist()\n",
    "##collist"
   ]
  },
  {
   "cell_type": "code",
   "execution_count": 157,
   "metadata": {
    "collapsed": false
   },
   "outputs": [
    {
     "data": {
      "text/html": [
       "<div>\n",
       "<table border=\"1\" class=\"dataframe\">\n",
       "  <thead>\n",
       "    <tr style=\"text-align: right;\">\n",
       "      <th></th>\n",
       "      <th>A</th>\n",
       "      <th>B</th>\n",
       "      <th>C</th>\n",
       "      <th>D</th>\n",
       "      <th>Non-Numeric</th>\n",
       "    </tr>\n",
       "  </thead>\n",
       "  <tbody>\n",
       "    <tr>\n",
       "      <th>2014-01-01</th>\n",
       "      <td>0.084800</td>\n",
       "      <td>999.000000</td>\n",
       "      <td>-1.002491</td>\n",
       "      <td>-1.399332</td>\n",
       "      <td>one</td>\n",
       "    </tr>\n",
       "    <tr>\n",
       "      <th>2014-01-02</th>\n",
       "      <td>-1.797803</td>\n",
       "      <td>0.040625</td>\n",
       "      <td>0.137874</td>\n",
       "      <td>-1.635155</td>\n",
       "      <td>two</td>\n",
       "    </tr>\n",
       "    <tr>\n",
       "      <th>2014-01-03</th>\n",
       "      <td>1.021571</td>\n",
       "      <td>-1.059128</td>\n",
       "      <td>0.115479</td>\n",
       "      <td>0.134165</td>\n",
       "      <td>three</td>\n",
       "    </tr>\n",
       "    <tr>\n",
       "      <th>2014-01-04</th>\n",
       "      <td>0.131204</td>\n",
       "      <td>-1.822580</td>\n",
       "      <td>-1.300589</td>\n",
       "      <td>-0.337351</td>\n",
       "      <td>four</td>\n",
       "    </tr>\n",
       "    <tr>\n",
       "      <th>2014-01-05</th>\n",
       "      <td>1.071119</td>\n",
       "      <td>0.498298</td>\n",
       "      <td>0.621882</td>\n",
       "      <td>0.627329</td>\n",
       "      <td>five</td>\n",
       "    </tr>\n",
       "    <tr>\n",
       "      <th>2014-01-06</th>\n",
       "      <td>-0.034982</td>\n",
       "      <td>0.215594</td>\n",
       "      <td>0.692756</td>\n",
       "      <td>2.159103</td>\n",
       "      <td>six</td>\n",
       "    </tr>\n",
       "  </tbody>\n",
       "</table>\n",
       "</div>"
      ],
      "text/plain": [
       "                   A           B         C         D Non-Numeric\n",
       "2014-01-01  0.084800  999.000000 -1.002491 -1.399332         one\n",
       "2014-01-02 -1.797803    0.040625  0.137874 -1.635155         two\n",
       "2014-01-03  1.021571   -1.059128  0.115479  0.134165       three\n",
       "2014-01-04  0.131204   -1.822580 -1.300589 -0.337351        four\n",
       "2014-01-05  1.071119    0.498298  0.621882  0.627329        five\n",
       "2014-01-06 -0.034982    0.215594  0.692756  2.159103         six"
      ]
     },
     "execution_count": 157,
     "metadata": {},
     "output_type": "execute_result"
    }
   ],
   "source": [
    "collist = df.columns.tolist()\n",
    "collist\n",
    "df.sort_index()"
   ]
  },
  {
   "cell_type": "markdown",
   "metadata": {
    "focus": false,
    "id": "1440616a-c3e7-4b5c-aec3-3705d76429cd",
    "slideshow": {
     "slide_type": "slide"
    }
   },
   "source": [
    "### Selection"
   ]
  },
  {
   "cell_type": "code",
   "execution_count": 166,
   "metadata": {
    "collapsed": false
   },
   "outputs": [
    {
     "data": {
      "text/html": [
       "<div>\n",
       "<table border=\"1\" class=\"dataframe\">\n",
       "  <thead>\n",
       "    <tr style=\"text-align: right;\">\n",
       "      <th></th>\n",
       "      <th>A</th>\n",
       "      <th>B</th>\n",
       "      <th>C</th>\n",
       "      <th>D</th>\n",
       "      <th>Non-Numeric</th>\n",
       "    </tr>\n",
       "  </thead>\n",
       "  <tbody>\n",
       "    <tr>\n",
       "      <th>2014-01-01</th>\n",
       "      <td>0.084800</td>\n",
       "      <td>999.000000</td>\n",
       "      <td>-1.002491</td>\n",
       "      <td>-1.399332</td>\n",
       "      <td>one</td>\n",
       "    </tr>\n",
       "    <tr>\n",
       "      <th>2014-01-02</th>\n",
       "      <td>-1.797803</td>\n",
       "      <td>0.040625</td>\n",
       "      <td>0.137874</td>\n",
       "      <td>-1.635155</td>\n",
       "      <td>two</td>\n",
       "    </tr>\n",
       "    <tr>\n",
       "      <th>2014-01-03</th>\n",
       "      <td>1.021571</td>\n",
       "      <td>-1.059128</td>\n",
       "      <td>0.115479</td>\n",
       "      <td>0.134165</td>\n",
       "      <td>three</td>\n",
       "    </tr>\n",
       "  </tbody>\n",
       "</table>\n",
       "</div>"
      ],
      "text/plain": [
       "                   A           B         C         D Non-Numeric\n",
       "2014-01-01  0.084800  999.000000 -1.002491 -1.399332         one\n",
       "2014-01-02 -1.797803    0.040625  0.137874 -1.635155         two\n",
       "2014-01-03  1.021571   -1.059128  0.115479  0.134165       three"
      ]
     },
     "execution_count": 166,
     "metadata": {},
     "output_type": "execute_result"
    }
   ],
   "source": [
    "df[['A', 'B']]\n",
    "df[0:3]"
   ]
  },
  {
   "cell_type": "code",
   "execution_count": 159,
   "metadata": {
    "collapsed": false,
    "focus": false,
    "id": "7825e53c-bd40-4027-9581-42d8f5aafa93",
    "slideshow": {
     "slide_type": "subslide"
    }
   },
   "outputs": [
    {
     "data": {
      "text/html": [
       "<div>\n",
       "<table border=\"1\" class=\"dataframe\">\n",
       "  <thead>\n",
       "    <tr style=\"text-align: right;\">\n",
       "      <th></th>\n",
       "      <th>A</th>\n",
       "      <th>B</th>\n",
       "    </tr>\n",
       "  </thead>\n",
       "  <tbody>\n",
       "    <tr>\n",
       "      <th>2014-01-01</th>\n",
       "      <td>0.084800</td>\n",
       "      <td>999.000000</td>\n",
       "    </tr>\n",
       "    <tr>\n",
       "      <th>2014-01-02</th>\n",
       "      <td>-1.797803</td>\n",
       "      <td>0.040625</td>\n",
       "    </tr>\n",
       "    <tr>\n",
       "      <th>2014-01-03</th>\n",
       "      <td>1.021571</td>\n",
       "      <td>-1.059128</td>\n",
       "    </tr>\n",
       "    <tr>\n",
       "      <th>2014-01-04</th>\n",
       "      <td>0.131204</td>\n",
       "      <td>-1.822580</td>\n",
       "    </tr>\n",
       "    <tr>\n",
       "      <th>2014-01-05</th>\n",
       "      <td>1.071119</td>\n",
       "      <td>0.498298</td>\n",
       "    </tr>\n",
       "    <tr>\n",
       "      <th>2014-01-06</th>\n",
       "      <td>-0.034982</td>\n",
       "      <td>0.215594</td>\n",
       "    </tr>\n",
       "  </tbody>\n",
       "</table>\n",
       "</div>"
      ],
      "text/plain": [
       "                   A           B\n",
       "2014-01-01  0.084800  999.000000\n",
       "2014-01-02 -1.797803    0.040625\n",
       "2014-01-03  1.021571   -1.059128\n",
       "2014-01-04  0.131204   -1.822580\n",
       "2014-01-05  1.071119    0.498298\n",
       "2014-01-06 -0.034982    0.215594"
      ]
     },
     "execution_count": 159,
     "metadata": {},
     "output_type": "execute_result"
    }
   ],
   "source": [
    "df[['A','B']]\n",
    "#df['A']"
   ]
  },
  {
   "cell_type": "code",
   "execution_count": 67,
   "metadata": {
    "collapsed": false,
    "focus": false,
    "id": "817868ae-d7df-425b-9368-e1b3c86a21d1",
    "slideshow": {
     "slide_type": "subslide"
    }
   },
   "outputs": [
    {
     "data": {
      "text/html": [
       "<div>\n",
       "<table border=\"1\" class=\"dataframe\">\n",
       "  <thead>\n",
       "    <tr style=\"text-align: right;\">\n",
       "      <th></th>\n",
       "      <th>A</th>\n",
       "      <th>B</th>\n",
       "      <th>C</th>\n",
       "      <th>D</th>\n",
       "      <th>Non-Numeric</th>\n",
       "    </tr>\n",
       "  </thead>\n",
       "  <tbody>\n",
       "    <tr>\n",
       "      <th>2014-01-01</th>\n",
       "      <td>0.139294</td>\n",
       "      <td>-0.350668</td>\n",
       "      <td>0.064634</td>\n",
       "      <td>-0.880649</td>\n",
       "      <td>one</td>\n",
       "    </tr>\n",
       "    <tr>\n",
       "      <th>2014-01-02</th>\n",
       "      <td>-0.002356</td>\n",
       "      <td>-0.507719</td>\n",
       "      <td>0.379281</td>\n",
       "      <td>0.834018</td>\n",
       "      <td>two</td>\n",
       "    </tr>\n",
       "    <tr>\n",
       "      <th>2014-01-03</th>\n",
       "      <td>-0.180333</td>\n",
       "      <td>0.275574</td>\n",
       "      <td>0.622806</td>\n",
       "      <td>0.177791</td>\n",
       "      <td>three</td>\n",
       "    </tr>\n",
       "  </tbody>\n",
       "</table>\n",
       "</div>"
      ],
      "text/plain": [
       "                   A         B         C         D Non-Numeric\n",
       "2014-01-01  0.139294 -0.350668  0.064634 -0.880649         one\n",
       "2014-01-02 -0.002356 -0.507719  0.379281  0.834018         two\n",
       "2014-01-03 -0.180333  0.275574  0.622806  0.177791       three"
      ]
     },
     "execution_count": 67,
     "metadata": {},
     "output_type": "execute_result"
    }
   ],
   "source": [
    "df[0:3]"
   ]
  },
  {
   "cell_type": "code",
   "execution_count": 171,
   "metadata": {
    "collapsed": false
   },
   "outputs": [
    {
     "data": {
      "text/html": [
       "<div>\n",
       "<table border=\"1\" class=\"dataframe\">\n",
       "  <thead>\n",
       "    <tr style=\"text-align: right;\">\n",
       "      <th></th>\n",
       "      <th>A</th>\n",
       "    </tr>\n",
       "  </thead>\n",
       "  <tbody>\n",
       "    <tr>\n",
       "      <th>2014-01-01</th>\n",
       "      <td>0.084800</td>\n",
       "    </tr>\n",
       "    <tr>\n",
       "      <th>2014-01-02</th>\n",
       "      <td>-1.797803</td>\n",
       "    </tr>\n",
       "    <tr>\n",
       "      <th>2014-01-03</th>\n",
       "      <td>1.021571</td>\n",
       "    </tr>\n",
       "  </tbody>\n",
       "</table>\n",
       "</div>"
      ],
      "text/plain": [
       "                   A\n",
       "2014-01-01  0.084800\n",
       "2014-01-02 -1.797803\n",
       "2014-01-03  1.021571"
      ]
     },
     "execution_count": 171,
     "metadata": {},
     "output_type": "execute_result"
    }
   ],
   "source": [
    "df\n",
    "df.loc[dates[0]]\n",
    "df.ix[0:3][['A']]"
   ]
  },
  {
   "cell_type": "code",
   "execution_count": 72,
   "metadata": {
    "collapsed": false,
    "focus": false,
    "id": "dcf6444e-ae7d-4058-abb0-5046d16733d2",
    "slideshow": {
     "slide_type": "subslide"
    }
   },
   "outputs": [
    {
     "data": {
      "text/plain": [
       "A               0.139294\n",
       "B              -0.350668\n",
       "C              0.0646338\n",
       "D              -0.880649\n",
       "Non-Numeric          one\n",
       "Name: 2014-01-01 00:00:00, dtype: object"
      ]
     },
     "execution_count": 72,
     "metadata": {},
     "output_type": "execute_result"
    }
   ],
   "source": [
    "# By label\n",
    "df.loc[dates[0]]\n",
    "##df.ix[0:3]['A']"
   ]
  },
  {
   "cell_type": "code",
   "execution_count": 176,
   "metadata": {
    "collapsed": false
   },
   "outputs": [
    {
     "data": {
      "text/html": [
       "<div>\n",
       "<table border=\"1\" class=\"dataframe\">\n",
       "  <thead>\n",
       "    <tr style=\"text-align: right;\">\n",
       "      <th></th>\n",
       "      <th>A</th>\n",
       "      <th>B</th>\n",
       "    </tr>\n",
       "  </thead>\n",
       "  <tbody>\n",
       "    <tr>\n",
       "      <th>2014-01-01</th>\n",
       "      <td>0.084800</td>\n",
       "      <td>999.000000</td>\n",
       "    </tr>\n",
       "    <tr>\n",
       "      <th>2014-01-02</th>\n",
       "      <td>-1.797803</td>\n",
       "      <td>0.040625</td>\n",
       "    </tr>\n",
       "  </tbody>\n",
       "</table>\n",
       "</div>"
      ],
      "text/plain": [
       "                   A           B\n",
       "2014-01-01  0.084800  999.000000\n",
       "2014-01-02 -1.797803    0.040625"
      ]
     },
     "execution_count": 176,
     "metadata": {},
     "output_type": "execute_result"
    }
   ],
   "source": [
    "df.loc[dates[0:2],['A','B']]\n"
   ]
  },
  {
   "cell_type": "code",
   "execution_count": 177,
   "metadata": {
    "collapsed": false,
    "focus": false,
    "id": "da51e123-4546-4c14-bdcc-969751f1991e",
    "slideshow": {
     "slide_type": "fragment"
    }
   },
   "outputs": [
    {
     "data": {
      "text/html": [
       "<div>\n",
       "<table border=\"1\" class=\"dataframe\">\n",
       "  <thead>\n",
       "    <tr style=\"text-align: right;\">\n",
       "      <th></th>\n",
       "      <th>A</th>\n",
       "      <th>B</th>\n",
       "    </tr>\n",
       "  </thead>\n",
       "  <tbody>\n",
       "    <tr>\n",
       "      <th>2014-01-01</th>\n",
       "      <td>0.084800</td>\n",
       "      <td>999.000000</td>\n",
       "    </tr>\n",
       "    <tr>\n",
       "      <th>2014-01-02</th>\n",
       "      <td>-1.797803</td>\n",
       "      <td>0.040625</td>\n",
       "    </tr>\n",
       "    <tr>\n",
       "      <th>2014-01-03</th>\n",
       "      <td>1.021571</td>\n",
       "      <td>-1.059128</td>\n",
       "    </tr>\n",
       "    <tr>\n",
       "      <th>2014-01-04</th>\n",
       "      <td>0.131204</td>\n",
       "      <td>-1.822580</td>\n",
       "    </tr>\n",
       "    <tr>\n",
       "      <th>2014-01-05</th>\n",
       "      <td>1.071119</td>\n",
       "      <td>0.498298</td>\n",
       "    </tr>\n",
       "    <tr>\n",
       "      <th>2014-01-06</th>\n",
       "      <td>-0.034982</td>\n",
       "      <td>0.215594</td>\n",
       "    </tr>\n",
       "  </tbody>\n",
       "</table>\n",
       "</div>"
      ],
      "text/plain": [
       "                   A           B\n",
       "2014-01-01  0.084800  999.000000\n",
       "2014-01-02 -1.797803    0.040625\n",
       "2014-01-03  1.021571   -1.059128\n",
       "2014-01-04  0.131204   -1.822580\n",
       "2014-01-05  1.071119    0.498298\n",
       "2014-01-06 -0.034982    0.215594"
      ]
     },
     "execution_count": 177,
     "metadata": {},
     "output_type": "execute_result"
    }
   ],
   "source": [
    "# multi-axis by label\n",
    "df.loc[:,['A','B']]"
   ]
  },
  {
   "cell_type": "code",
   "execution_count": 179,
   "metadata": {
    "collapsed": false
   },
   "outputs": [
    {
     "data": {
      "text/html": [
       "<div>\n",
       "<table border=\"1\" class=\"dataframe\">\n",
       "  <thead>\n",
       "    <tr style=\"text-align: right;\">\n",
       "      <th></th>\n",
       "      <th>A</th>\n",
       "      <th>B</th>\n",
       "    </tr>\n",
       "  </thead>\n",
       "  <tbody>\n",
       "    <tr>\n",
       "      <th>2014-01-02</th>\n",
       "      <td>-1.797803</td>\n",
       "      <td>0.040625</td>\n",
       "    </tr>\n",
       "    <tr>\n",
       "      <th>2014-01-03</th>\n",
       "      <td>1.021571</td>\n",
       "      <td>-1.059128</td>\n",
       "    </tr>\n",
       "    <tr>\n",
       "      <th>2014-01-04</th>\n",
       "      <td>0.131204</td>\n",
       "      <td>-1.822580</td>\n",
       "    </tr>\n",
       "    <tr>\n",
       "      <th>2014-01-05</th>\n",
       "      <td>1.071119</td>\n",
       "      <td>0.498298</td>\n",
       "    </tr>\n",
       "  </tbody>\n",
       "</table>\n",
       "</div>"
      ],
      "text/plain": [
       "                   A         B\n",
       "2014-01-02 -1.797803  0.040625\n",
       "2014-01-03  1.021571 -1.059128\n",
       "2014-01-04  0.131204 -1.822580\n",
       "2014-01-05  1.071119  0.498298"
      ]
     },
     "execution_count": 179,
     "metadata": {},
     "output_type": "execute_result"
    }
   ],
   "source": [
    "df.loc['2014-01-02':'2014-01-05', ['A', 'B']]"
   ]
  },
  {
   "cell_type": "code",
   "execution_count": 183,
   "metadata": {
    "collapsed": false,
    "focus": false,
    "id": "e3e52e42-a7f3-4298-80ae-d4554764b9fe",
    "slideshow": {
     "slide_type": "fragment"
    }
   },
   "outputs": [
    {
     "data": {
      "text/plain": [
       "-1.0591283875586439"
      ]
     },
     "execution_count": 183,
     "metadata": {},
     "output_type": "execute_result"
    }
   ],
   "source": [
    "# Date Range\n",
    "df.loc['20140102':'20140104',['B']]\n",
    "df.loc['2014-01', ['B']]\n",
    "df.at[dates[2],'B']\n",
    "##df.loc['2014-01',['B']]"
   ]
  },
  {
   "cell_type": "code",
   "execution_count": 76,
   "metadata": {
    "collapsed": false,
    "focus": false,
    "id": "6ec7d13c-1a41-4358-bbd3-742f6253b497",
    "slideshow": {
     "slide_type": "fragment"
    }
   },
   "outputs": [
    {
     "data": {
      "text/plain": [
       "-0.50771852088065805"
      ]
     },
     "execution_count": 76,
     "metadata": {},
     "output_type": "execute_result"
    }
   ],
   "source": [
    "# Fast access to scalar\n",
    "df.at[dates[1],'B']"
   ]
  },
  {
   "cell_type": "code",
   "execution_count": 77,
   "metadata": {
    "collapsed": false,
    "focus": false,
    "id": "42f70279-ecea-4460-872c-95949b247caf",
    "slideshow": {
     "slide_type": "fragment"
    }
   },
   "outputs": [
    {
     "data": {
      "text/html": [
       "<div>\n",
       "<table border=\"1\" class=\"dataframe\">\n",
       "  <thead>\n",
       "    <tr style=\"text-align: right;\">\n",
       "      <th></th>\n",
       "      <th>A</th>\n",
       "      <th>B</th>\n",
       "      <th>C</th>\n",
       "      <th>D</th>\n",
       "      <th>Non-Numeric</th>\n",
       "    </tr>\n",
       "  </thead>\n",
       "  <tbody>\n",
       "    <tr>\n",
       "      <th>2014-01-04</th>\n",
       "      <td>-1.632322</td>\n",
       "      <td>-1.098504</td>\n",
       "      <td>0.369557</td>\n",
       "      <td>-1.703923</td>\n",
       "      <td>four</td>\n",
       "    </tr>\n",
       "    <tr>\n",
       "      <th>2014-01-05</th>\n",
       "      <td>0.062905</td>\n",
       "      <td>-0.934427</td>\n",
       "      <td>-0.160805</td>\n",
       "      <td>0.936943</td>\n",
       "      <td>five</td>\n",
       "    </tr>\n",
       "    <tr>\n",
       "      <th>2014-01-06</th>\n",
       "      <td>0.821076</td>\n",
       "      <td>-0.577251</td>\n",
       "      <td>0.523257</td>\n",
       "      <td>-0.136320</td>\n",
       "      <td>six</td>\n",
       "    </tr>\n",
       "  </tbody>\n",
       "</table>\n",
       "</div>"
      ],
      "text/plain": [
       "                   A         B         C         D Non-Numeric\n",
       "2014-01-04 -1.632322 -1.098504  0.369557 -1.703923        four\n",
       "2014-01-05  0.062905 -0.934427 -0.160805  0.936943        five\n",
       "2014-01-06  0.821076 -0.577251  0.523257 -0.136320         six"
      ]
     },
     "execution_count": 77,
     "metadata": {},
     "output_type": "execute_result"
    }
   ],
   "source": [
    "# iloc provides integer locations similar to np style\n",
    "df.iloc[3:]"
   ]
  },
  {
   "cell_type": "code",
   "execution_count": 184,
   "metadata": {
    "collapsed": false,
    "scrolled": true
   },
   "outputs": [
    {
     "data": {
      "text/html": [
       "<div>\n",
       "<table border=\"1\" class=\"dataframe\">\n",
       "  <thead>\n",
       "    <tr style=\"text-align: right;\">\n",
       "      <th></th>\n",
       "      <th>A</th>\n",
       "      <th>B</th>\n",
       "      <th>C</th>\n",
       "      <th>D</th>\n",
       "      <th>Non-Numeric</th>\n",
       "    </tr>\n",
       "  </thead>\n",
       "  <tbody>\n",
       "    <tr>\n",
       "      <th>2014-01-01</th>\n",
       "      <td>0.084800</td>\n",
       "      <td>999.000000</td>\n",
       "      <td>-1.002491</td>\n",
       "      <td>-1.399332</td>\n",
       "      <td>one</td>\n",
       "    </tr>\n",
       "    <tr>\n",
       "      <th>2014-01-02</th>\n",
       "      <td>-1.797803</td>\n",
       "      <td>0.040625</td>\n",
       "      <td>0.137874</td>\n",
       "      <td>-1.635155</td>\n",
       "      <td>two</td>\n",
       "    </tr>\n",
       "    <tr>\n",
       "      <th>2014-01-03</th>\n",
       "      <td>1.021571</td>\n",
       "      <td>-1.059128</td>\n",
       "      <td>0.115479</td>\n",
       "      <td>0.134165</td>\n",
       "      <td>three</td>\n",
       "    </tr>\n",
       "    <tr>\n",
       "      <th>2014-01-04</th>\n",
       "      <td>0.131204</td>\n",
       "      <td>-1.822580</td>\n",
       "      <td>-1.300589</td>\n",
       "      <td>-0.337351</td>\n",
       "      <td>four</td>\n",
       "    </tr>\n",
       "    <tr>\n",
       "      <th>2014-01-05</th>\n",
       "      <td>1.071119</td>\n",
       "      <td>0.498298</td>\n",
       "      <td>0.621882</td>\n",
       "      <td>0.627329</td>\n",
       "      <td>five</td>\n",
       "    </tr>\n",
       "    <tr>\n",
       "      <th>2014-01-06</th>\n",
       "      <td>-0.034982</td>\n",
       "      <td>0.215594</td>\n",
       "      <td>0.692756</td>\n",
       "      <td>2.159103</td>\n",
       "      <td>six</td>\n",
       "    </tr>\n",
       "  </tbody>\n",
       "</table>\n",
       "</div>"
      ],
      "text/plain": [
       "                   A           B         C         D Non-Numeric\n",
       "2014-01-01  0.084800  999.000000 -1.002491 -1.399332         one\n",
       "2014-01-02 -1.797803    0.040625  0.137874 -1.635155         two\n",
       "2014-01-03  1.021571   -1.059128  0.115479  0.134165       three\n",
       "2014-01-04  0.131204   -1.822580 -1.300589 -0.337351        four\n",
       "2014-01-05  1.071119    0.498298  0.621882  0.627329        five\n",
       "2014-01-06 -0.034982    0.215594  0.692756  2.159103         six"
      ]
     },
     "execution_count": 184,
     "metadata": {},
     "output_type": "execute_result"
    }
   ],
   "source": [
    "df"
   ]
  },
  {
   "cell_type": "code",
   "execution_count": 188,
   "metadata": {
    "collapsed": false
   },
   "outputs": [
    {
     "data": {
      "text/html": [
       "<div>\n",
       "<table border=\"1\" class=\"dataframe\">\n",
       "  <thead>\n",
       "    <tr style=\"text-align: right;\">\n",
       "      <th></th>\n",
       "      <th>B</th>\n",
       "      <th>C</th>\n",
       "    </tr>\n",
       "  </thead>\n",
       "  <tbody>\n",
       "    <tr>\n",
       "      <th>2014-01-03</th>\n",
       "      <td>-1.059128</td>\n",
       "      <td>0.115479</td>\n",
       "    </tr>\n",
       "    <tr>\n",
       "      <th>2014-01-04</th>\n",
       "      <td>-1.822580</td>\n",
       "      <td>-1.300589</td>\n",
       "    </tr>\n",
       "  </tbody>\n",
       "</table>\n",
       "</div>"
      ],
      "text/plain": [
       "                   B         C\n",
       "2014-01-03 -1.059128  0.115479\n",
       "2014-01-04 -1.822580 -1.300589"
      ]
     },
     "execution_count": 188,
     "metadata": {},
     "output_type": "execute_result"
    }
   ],
   "source": [
    "df.iloc[2:4,1:3]"
   ]
  },
  {
   "cell_type": "markdown",
   "metadata": {
    "focus": false,
    "id": "16735d8f-3712-42a2-bd0e-8cd141fbe232",
    "slideshow": {
     "slide_type": "subslide"
    }
   },
   "source": [
    "### Boolean Indexing"
   ]
  },
  {
   "cell_type": "code",
   "execution_count": 196,
   "metadata": {
    "collapsed": false,
    "scrolled": true
   },
   "outputs": [
    {
     "data": {
      "text/html": [
       "<div>\n",
       "<table border=\"1\" class=\"dataframe\">\n",
       "  <thead>\n",
       "    <tr style=\"text-align: right;\">\n",
       "      <th></th>\n",
       "      <th>A</th>\n",
       "      <th>B</th>\n",
       "      <th>C</th>\n",
       "      <th>D</th>\n",
       "      <th>Non-Numeric</th>\n",
       "    </tr>\n",
       "  </thead>\n",
       "  <tbody>\n",
       "    <tr>\n",
       "      <th>2014-01-02</th>\n",
       "      <td>-1.797803</td>\n",
       "      <td>0.040625</td>\n",
       "      <td>0.137874</td>\n",
       "      <td>-1.635155</td>\n",
       "      <td>two</td>\n",
       "    </tr>\n",
       "    <tr>\n",
       "      <th>2014-01-06</th>\n",
       "      <td>-0.034982</td>\n",
       "      <td>0.215594</td>\n",
       "      <td>0.692756</td>\n",
       "      <td>2.159103</td>\n",
       "      <td>six</td>\n",
       "    </tr>\n",
       "  </tbody>\n",
       "</table>\n",
       "</div>"
      ],
      "text/plain": [
       "                   A         B         C         D Non-Numeric\n",
       "2014-01-02 -1.797803  0.040625  0.137874 -1.635155         two\n",
       "2014-01-06 -0.034982  0.215594  0.692756  2.159103         six"
      ]
     },
     "execution_count": 196,
     "metadata": {},
     "output_type": "execute_result"
    }
   ],
   "source": [
    "df.A>0\n",
    "##df[['A']]\n",
    "##df['A']\n",
    "df[df.A<0]"
   ]
  },
  {
   "cell_type": "code",
   "execution_count": 194,
   "metadata": {
    "collapsed": false
   },
   "outputs": [
    {
     "data": {
      "text/plain": [
       "2014-01-01     True\n",
       "2014-01-02    False\n",
       "2014-01-03     True\n",
       "2014-01-04     True\n",
       "2014-01-05     True\n",
       "2014-01-06    False\n",
       "Name: A, dtype: bool"
      ]
     },
     "execution_count": 194,
     "metadata": {},
     "output_type": "execute_result"
    }
   ],
   "source": [
    "df.A>0\n",
    "##df[df['A']>0]"
   ]
  },
  {
   "cell_type": "code",
   "execution_count": 200,
   "metadata": {
    "collapsed": false,
    "focus": false,
    "id": "a0af5955-c7e0-4d83-aea2-1972b21b8974",
    "slideshow": {
     "slide_type": "fragment"
    }
   },
   "outputs": [
    {
     "data": {
      "text/html": [
       "<div>\n",
       "<table border=\"1\" class=\"dataframe\">\n",
       "  <thead>\n",
       "    <tr style=\"text-align: right;\">\n",
       "      <th></th>\n",
       "      <th>A</th>\n",
       "      <th>B</th>\n",
       "      <th>C</th>\n",
       "      <th>D</th>\n",
       "      <th>Non-Numeric</th>\n",
       "    </tr>\n",
       "  </thead>\n",
       "  <tbody>\n",
       "    <tr>\n",
       "      <th>2014-01-03</th>\n",
       "      <td>1.021571</td>\n",
       "      <td>-1.059128</td>\n",
       "      <td>0.115479</td>\n",
       "      <td>0.134165</td>\n",
       "      <td>three</td>\n",
       "    </tr>\n",
       "    <tr>\n",
       "      <th>2014-01-05</th>\n",
       "      <td>1.071119</td>\n",
       "      <td>0.498298</td>\n",
       "      <td>0.621882</td>\n",
       "      <td>0.627329</td>\n",
       "      <td>five</td>\n",
       "    </tr>\n",
       "  </tbody>\n",
       "</table>\n",
       "</div>"
      ],
      "text/plain": [
       "                   A         B         C         D Non-Numeric\n",
       "2014-01-03  1.021571 -1.059128  0.115479  0.134165       three\n",
       "2014-01-05  1.071119  0.498298  0.621882  0.627329        five"
      ]
     },
     "execution_count": 200,
     "metadata": {},
     "output_type": "execute_result"
    }
   ],
   "source": [
    "df[df.A < 0] # Basically a 'where' operation\n",
    "df[df['Non-Numeric'].isin([\"three\", \"five\"])]"
   ]
  },
  {
   "cell_type": "markdown",
   "metadata": {
    "focus": false,
    "id": "c22c86db-8892-4337-b70f-5e849ee63daa",
    "slideshow": {
     "slide_type": "subslide"
    }
   },
   "source": [
    "### Setting"
   ]
  },
  {
   "cell_type": "code",
   "execution_count": 210,
   "metadata": {
    "collapsed": false,
    "focus": false,
    "id": "8d65e283-2ba8-43c1-ba16-e69da80b51b9",
    "slideshow": {
     "slide_type": "fragment"
    }
   },
   "outputs": [
    {
     "data": {
      "text/html": [
       "<div>\n",
       "<table border=\"1\" class=\"dataframe\">\n",
       "  <thead>\n",
       "    <tr style=\"text-align: right;\">\n",
       "      <th></th>\n",
       "      <th>A</th>\n",
       "      <th>B</th>\n",
       "      <th>C</th>\n",
       "      <th>D</th>\n",
       "      <th>Non-Numeric</th>\n",
       "    </tr>\n",
       "  </thead>\n",
       "  <tbody>\n",
       "    <tr>\n",
       "      <th>2014-01-01</th>\n",
       "      <td>0.084800</td>\n",
       "      <td>999.000000</td>\n",
       "      <td>-1.002491</td>\n",
       "      <td>-1.399332</td>\n",
       "      <td>one</td>\n",
       "    </tr>\n",
       "    <tr>\n",
       "      <th>2014-01-02</th>\n",
       "      <td>-1.797803</td>\n",
       "      <td>0.040625</td>\n",
       "      <td>0.137874</td>\n",
       "      <td>-1.635155</td>\n",
       "      <td>two</td>\n",
       "    </tr>\n",
       "    <tr>\n",
       "      <th>2014-01-03</th>\n",
       "      <td>1.021571</td>\n",
       "      <td>-1.059128</td>\n",
       "      <td>0.115479</td>\n",
       "      <td>0.134165</td>\n",
       "      <td>three</td>\n",
       "    </tr>\n",
       "    <tr>\n",
       "      <th>2014-01-04</th>\n",
       "      <td>0.131204</td>\n",
       "      <td>-1.822580</td>\n",
       "      <td>-1.300589</td>\n",
       "      <td>-0.337351</td>\n",
       "      <td>four</td>\n",
       "    </tr>\n",
       "    <tr>\n",
       "      <th>2014-01-05</th>\n",
       "      <td>1.071119</td>\n",
       "      <td>0.498298</td>\n",
       "      <td>0.621882</td>\n",
       "      <td>0.627329</td>\n",
       "      <td>five</td>\n",
       "    </tr>\n",
       "    <tr>\n",
       "      <th>2014-01-06</th>\n",
       "      <td>-0.034982</td>\n",
       "      <td>0.215594</td>\n",
       "      <td>0.692756</td>\n",
       "      <td>2.159103</td>\n",
       "      <td>six</td>\n",
       "    </tr>\n",
       "  </tbody>\n",
       "</table>\n",
       "</div>"
      ],
      "text/plain": [
       "                   A           B         C         D Non-Numeric\n",
       "2014-01-01  0.084800  999.000000 -1.002491 -1.399332         one\n",
       "2014-01-02 -1.797803    0.040625  0.137874 -1.635155         two\n",
       "2014-01-03  1.021571   -1.059128  0.115479  0.134165       three\n",
       "2014-01-04  0.131204   -1.822580 -1.300589 -0.337351        four\n",
       "2014-01-05  1.071119    0.498298  0.621882  0.627329        five\n",
       "2014-01-06 -0.034982    0.215594  0.692756  2.159103         six"
      ]
     },
     "execution_count": 210,
     "metadata": {},
     "output_type": "execute_result"
    }
   ],
   "source": [
    "df_posA = df.copy() # Without \"copy\" it would act on the dataset\n",
    "df_posA[df_posA.A < 0] = -1*df_posA\n",
    "df"
   ]
  },
  {
   "cell_type": "code",
   "execution_count": 209,
   "metadata": {
    "collapsed": false,
    "focus": false,
    "id": "ce51651b-1c4a-4a02-8e84-6a938c5c7a4c",
    "slideshow": {
     "slide_type": "fragment"
    }
   },
   "outputs": [
    {
     "data": {
      "text/html": [
       "<div>\n",
       "<table border=\"1\" class=\"dataframe\">\n",
       "  <thead>\n",
       "    <tr style=\"text-align: right;\">\n",
       "      <th></th>\n",
       "      <th>A</th>\n",
       "      <th>B</th>\n",
       "      <th>C</th>\n",
       "      <th>D</th>\n",
       "      <th>Non-Numeric</th>\n",
       "    </tr>\n",
       "  </thead>\n",
       "  <tbody>\n",
       "    <tr>\n",
       "      <th>2014-01-01</th>\n",
       "      <td>0.084800</td>\n",
       "      <td>999.000000</td>\n",
       "      <td>-1.002491</td>\n",
       "      <td>-1.399332</td>\n",
       "      <td>one</td>\n",
       "    </tr>\n",
       "    <tr>\n",
       "      <th>2014-01-02</th>\n",
       "      <td>1.797803</td>\n",
       "      <td>-0.040625</td>\n",
       "      <td>-0.137874</td>\n",
       "      <td>1.635155</td>\n",
       "      <td></td>\n",
       "    </tr>\n",
       "    <tr>\n",
       "      <th>2014-01-03</th>\n",
       "      <td>1.021571</td>\n",
       "      <td>-1.059128</td>\n",
       "      <td>0.115479</td>\n",
       "      <td>0.134165</td>\n",
       "      <td>three</td>\n",
       "    </tr>\n",
       "    <tr>\n",
       "      <th>2014-01-04</th>\n",
       "      <td>0.131204</td>\n",
       "      <td>-1.822580</td>\n",
       "      <td>-1.300589</td>\n",
       "      <td>-0.337351</td>\n",
       "      <td>four</td>\n",
       "    </tr>\n",
       "    <tr>\n",
       "      <th>2014-01-05</th>\n",
       "      <td>1.071119</td>\n",
       "      <td>0.498298</td>\n",
       "      <td>0.621882</td>\n",
       "      <td>0.627329</td>\n",
       "      <td>five</td>\n",
       "    </tr>\n",
       "    <tr>\n",
       "      <th>2014-01-06</th>\n",
       "      <td>0.034982</td>\n",
       "      <td>-0.215594</td>\n",
       "      <td>-0.692756</td>\n",
       "      <td>-2.159103</td>\n",
       "      <td></td>\n",
       "    </tr>\n",
       "  </tbody>\n",
       "</table>\n",
       "</div>"
      ],
      "text/plain": [
       "                   A           B         C         D Non-Numeric\n",
       "2014-01-01  0.084800  999.000000 -1.002491 -1.399332         one\n",
       "2014-01-02  1.797803   -0.040625 -0.137874  1.635155            \n",
       "2014-01-03  1.021571   -1.059128  0.115479  0.134165       three\n",
       "2014-01-04  0.131204   -1.822580 -1.300589 -0.337351        four\n",
       "2014-01-05  1.071119    0.498298  0.621882  0.627329        five\n",
       "2014-01-06  0.034982   -0.215594 -0.692756 -2.159103            "
      ]
     },
     "execution_count": 209,
     "metadata": {},
     "output_type": "execute_result"
    }
   ],
   "source": [
    "df_posA"
   ]
  },
  {
   "cell_type": "code",
   "execution_count": 219,
   "metadata": {
    "collapsed": false,
    "focus": false,
    "id": "f45e9be0-2c20-4d49-b167-911f076a00b2",
    "slideshow": {
     "slide_type": "subslide"
    }
   },
   "outputs": [],
   "source": [
    "#Setting new column aligns data by index\n",
    "s1 = pd.Series([1,2,3,4,5,6],index=pd.date_range('20140102',periods=6))"
   ]
  },
  {
   "cell_type": "code",
   "execution_count": 220,
   "metadata": {
    "collapsed": false,
    "focus": false,
    "id": "12df6591-5940-4198-a7f9-9f7563afc75b",
    "slideshow": {
     "slide_type": "fragment"
    }
   },
   "outputs": [
    {
     "data": {
      "text/plain": [
       "2014-01-02    1\n",
       "2014-01-03    2\n",
       "2014-01-04    3\n",
       "2014-01-05    4\n",
       "2014-01-06    5\n",
       "2014-01-07    6\n",
       "Freq: D, dtype: int64"
      ]
     },
     "execution_count": 220,
     "metadata": {},
     "output_type": "execute_result"
    }
   ],
   "source": [
    "s1"
   ]
  },
  {
   "cell_type": "code",
   "execution_count": 221,
   "metadata": {
    "collapsed": false,
    "focus": false,
    "id": "7281af7b-395f-417b-aa07-c53a26591fc7",
    "slideshow": {
     "slide_type": "fragment"
    }
   },
   "outputs": [],
   "source": [
    "df['F'] = s1"
   ]
  },
  {
   "cell_type": "code",
   "execution_count": 222,
   "metadata": {
    "collapsed": false,
    "focus": false,
    "id": "d41dfe6d-025f-4078-a33b-3e7e0ea0d1dc",
    "slideshow": {
     "slide_type": "fragment"
    }
   },
   "outputs": [
    {
     "data": {
      "text/html": [
       "<div>\n",
       "<table border=\"1\" class=\"dataframe\">\n",
       "  <thead>\n",
       "    <tr style=\"text-align: right;\">\n",
       "      <th></th>\n",
       "      <th>A</th>\n",
       "      <th>B</th>\n",
       "      <th>C</th>\n",
       "      <th>D</th>\n",
       "      <th>Non-Numeric</th>\n",
       "      <th>F</th>\n",
       "    </tr>\n",
       "  </thead>\n",
       "  <tbody>\n",
       "    <tr>\n",
       "      <th>2014-01-01</th>\n",
       "      <td>0.084800</td>\n",
       "      <td>999.000000</td>\n",
       "      <td>-1.002491</td>\n",
       "      <td>-1.399332</td>\n",
       "      <td>one</td>\n",
       "      <td>NaN</td>\n",
       "    </tr>\n",
       "    <tr>\n",
       "      <th>2014-01-02</th>\n",
       "      <td>-1.797803</td>\n",
       "      <td>0.040625</td>\n",
       "      <td>0.137874</td>\n",
       "      <td>-1.635155</td>\n",
       "      <td>two</td>\n",
       "      <td>1.0</td>\n",
       "    </tr>\n",
       "    <tr>\n",
       "      <th>2014-01-03</th>\n",
       "      <td>1.021571</td>\n",
       "      <td>-1.059128</td>\n",
       "      <td>0.115479</td>\n",
       "      <td>0.134165</td>\n",
       "      <td>three</td>\n",
       "      <td>2.0</td>\n",
       "    </tr>\n",
       "    <tr>\n",
       "      <th>2014-01-04</th>\n",
       "      <td>0.131204</td>\n",
       "      <td>-1.822580</td>\n",
       "      <td>-1.300589</td>\n",
       "      <td>-0.337351</td>\n",
       "      <td>four</td>\n",
       "      <td>3.0</td>\n",
       "    </tr>\n",
       "    <tr>\n",
       "      <th>2014-01-05</th>\n",
       "      <td>1.071119</td>\n",
       "      <td>0.498298</td>\n",
       "      <td>0.621882</td>\n",
       "      <td>0.627329</td>\n",
       "      <td>five</td>\n",
       "      <td>4.0</td>\n",
       "    </tr>\n",
       "    <tr>\n",
       "      <th>2014-01-06</th>\n",
       "      <td>-0.034982</td>\n",
       "      <td>0.215594</td>\n",
       "      <td>0.692756</td>\n",
       "      <td>2.159103</td>\n",
       "      <td>six</td>\n",
       "      <td>5.0</td>\n",
       "    </tr>\n",
       "  </tbody>\n",
       "</table>\n",
       "</div>"
      ],
      "text/plain": [
       "                   A           B         C         D Non-Numeric    F\n",
       "2014-01-01  0.084800  999.000000 -1.002491 -1.399332         one  NaN\n",
       "2014-01-02 -1.797803    0.040625  0.137874 -1.635155         two  1.0\n",
       "2014-01-03  1.021571   -1.059128  0.115479  0.134165       three  2.0\n",
       "2014-01-04  0.131204   -1.822580 -1.300589 -0.337351        four  3.0\n",
       "2014-01-05  1.071119    0.498298  0.621882  0.627329        five  4.0\n",
       "2014-01-06 -0.034982    0.215594  0.692756  2.159103         six  5.0"
      ]
     },
     "execution_count": 222,
     "metadata": {},
     "output_type": "execute_result"
    }
   ],
   "source": [
    "df"
   ]
  },
  {
   "cell_type": "markdown",
   "metadata": {
    "focus": false,
    "id": "203fd0e7-9ad9-4dcc-8167-72bd28e7a029",
    "slideshow": {
     "slide_type": "slide"
    }
   },
   "source": [
    "### Missing Data"
   ]
  },
  {
   "cell_type": "code",
   "execution_count": 229,
   "metadata": {
    "collapsed": false
   },
   "outputs": [
    {
     "data": {
      "text/html": [
       "<div>\n",
       "<table border=\"1\" class=\"dataframe\">\n",
       "  <thead>\n",
       "    <tr style=\"text-align: right;\">\n",
       "      <th></th>\n",
       "      <th>A</th>\n",
       "      <th>B</th>\n",
       "      <th>C</th>\n",
       "      <th>D</th>\n",
       "      <th>Non-Numeric</th>\n",
       "    </tr>\n",
       "  </thead>\n",
       "  <tbody>\n",
       "    <tr>\n",
       "      <th>2014-01-01</th>\n",
       "      <td>0.084800</td>\n",
       "      <td>999.000000</td>\n",
       "      <td>-1.002491</td>\n",
       "      <td>-1.399332</td>\n",
       "      <td>one</td>\n",
       "    </tr>\n",
       "    <tr>\n",
       "      <th>2014-01-02</th>\n",
       "      <td>-1.797803</td>\n",
       "      <td>0.040625</td>\n",
       "      <td>0.137874</td>\n",
       "      <td>-1.635155</td>\n",
       "      <td>two</td>\n",
       "    </tr>\n",
       "    <tr>\n",
       "      <th>2014-01-03</th>\n",
       "      <td>1.021571</td>\n",
       "      <td>-1.059128</td>\n",
       "      <td>0.115479</td>\n",
       "      <td>0.134165</td>\n",
       "      <td>three</td>\n",
       "    </tr>\n",
       "    <tr>\n",
       "      <th>2014-01-04</th>\n",
       "      <td>0.131204</td>\n",
       "      <td>-1.822580</td>\n",
       "      <td>-1.300589</td>\n",
       "      <td>-0.337351</td>\n",
       "      <td>four</td>\n",
       "    </tr>\n",
       "    <tr>\n",
       "      <th>2014-01-05</th>\n",
       "      <td>1.071119</td>\n",
       "      <td>0.498298</td>\n",
       "      <td>0.621882</td>\n",
       "      <td>0.627329</td>\n",
       "      <td>five</td>\n",
       "    </tr>\n",
       "    <tr>\n",
       "      <th>2014-01-06</th>\n",
       "      <td>-0.034982</td>\n",
       "      <td>0.215594</td>\n",
       "      <td>0.692756</td>\n",
       "      <td>2.159103</td>\n",
       "      <td>six</td>\n",
       "    </tr>\n",
       "  </tbody>\n",
       "</table>\n",
       "</div>"
      ],
      "text/plain": [
       "                   A           B         C         D Non-Numeric\n",
       "2014-01-01  0.084800  999.000000 -1.002491 -1.399332         one\n",
       "2014-01-02 -1.797803    0.040625  0.137874 -1.635155         two\n",
       "2014-01-03  1.021571   -1.059128  0.115479  0.134165       three\n",
       "2014-01-04  0.131204   -1.822580 -1.300589 -0.337351        four\n",
       "2014-01-05  1.071119    0.498298  0.621882  0.627329        five\n",
       "2014-01-06 -0.034982    0.215594  0.692756  2.159103         six"
      ]
     },
     "execution_count": 229,
     "metadata": {},
     "output_type": "execute_result"
    }
   ],
   "source": [
    "df"
   ]
  },
  {
   "cell_type": "code",
   "execution_count": 241,
   "metadata": {
    "collapsed": false
   },
   "outputs": [
    {
     "data": {
      "text/html": [
       "<div>\n",
       "<table border=\"1\" class=\"dataframe\">\n",
       "  <thead>\n",
       "    <tr style=\"text-align: right;\">\n",
       "      <th></th>\n",
       "      <th>E</th>\n",
       "    </tr>\n",
       "  </thead>\n",
       "  <tbody>\n",
       "    <tr>\n",
       "      <th>2014-01-01</th>\n",
       "      <td>False</td>\n",
       "    </tr>\n",
       "    <tr>\n",
       "      <th>2014-01-02</th>\n",
       "      <td>False</td>\n",
       "    </tr>\n",
       "    <tr>\n",
       "      <th>2014-01-03</th>\n",
       "      <td>True</td>\n",
       "    </tr>\n",
       "    <tr>\n",
       "      <th>2014-01-04</th>\n",
       "      <td>True</td>\n",
       "    </tr>\n",
       "  </tbody>\n",
       "</table>\n",
       "</div>"
      ],
      "text/plain": [
       "                E\n",
       "2014-01-01  False\n",
       "2014-01-02  False\n",
       "2014-01-03   True\n",
       "2014-01-04   True"
      ]
     },
     "execution_count": 241,
     "metadata": {},
     "output_type": "execute_result"
    }
   ],
   "source": [
    "df1 = df.reindex(index = dates[0:4], columns = list(df.columns)+['E'])\n",
    "df1.loc[dates[0]:dates[1],'E'] = 1\n",
    "df1\n",
    "pd.isnull(df1)\n",
    "#pd.isnull(df1['E'])\n",
    "#pd.isnull(df1[['E']])"
   ]
  },
  {
   "cell_type": "code",
   "execution_count": 230,
   "metadata": {
    "collapsed": false,
    "focus": false,
    "id": "98b7be6a-8d81-4c29-9439-2b5c5fae1dce",
    "slideshow": {
     "slide_type": "subslide"
    }
   },
   "outputs": [],
   "source": [
    "# Add a column with missing data\n",
    "df1 = df.reindex(index=dates[0:4],columns=list(df.columns) + ['E'])"
   ]
  },
  {
   "cell_type": "code",
   "execution_count": 232,
   "metadata": {
    "collapsed": false,
    "focus": false,
    "id": "e13067da-23ce-440f-9e0d-693e4e5565c2",
    "slideshow": {
     "slide_type": "subslide"
    }
   },
   "outputs": [],
   "source": [
    "df1.loc[dates[0]:dates[1],'E'] = 1"
   ]
  },
  {
   "cell_type": "code",
   "execution_count": 233,
   "metadata": {
    "collapsed": false,
    "focus": false,
    "id": "24e2f95e-75dc-42ed-93fb-8fae3e9623a6",
    "slideshow": {
     "slide_type": "fragment"
    }
   },
   "outputs": [
    {
     "data": {
      "text/html": [
       "<div>\n",
       "<table border=\"1\" class=\"dataframe\">\n",
       "  <thead>\n",
       "    <tr style=\"text-align: right;\">\n",
       "      <th></th>\n",
       "      <th>A</th>\n",
       "      <th>B</th>\n",
       "      <th>C</th>\n",
       "      <th>D</th>\n",
       "      <th>Non-Numeric</th>\n",
       "      <th>E</th>\n",
       "    </tr>\n",
       "  </thead>\n",
       "  <tbody>\n",
       "    <tr>\n",
       "      <th>2014-01-01</th>\n",
       "      <td>0.084800</td>\n",
       "      <td>999.000000</td>\n",
       "      <td>-1.002491</td>\n",
       "      <td>-1.399332</td>\n",
       "      <td>one</td>\n",
       "      <td>1.0</td>\n",
       "    </tr>\n",
       "    <tr>\n",
       "      <th>2014-01-02</th>\n",
       "      <td>-1.797803</td>\n",
       "      <td>0.040625</td>\n",
       "      <td>0.137874</td>\n",
       "      <td>-1.635155</td>\n",
       "      <td>two</td>\n",
       "      <td>1.0</td>\n",
       "    </tr>\n",
       "    <tr>\n",
       "      <th>2014-01-03</th>\n",
       "      <td>1.021571</td>\n",
       "      <td>-1.059128</td>\n",
       "      <td>0.115479</td>\n",
       "      <td>0.134165</td>\n",
       "      <td>three</td>\n",
       "      <td>NaN</td>\n",
       "    </tr>\n",
       "    <tr>\n",
       "      <th>2014-01-04</th>\n",
       "      <td>0.131204</td>\n",
       "      <td>-1.822580</td>\n",
       "      <td>-1.300589</td>\n",
       "      <td>-0.337351</td>\n",
       "      <td>four</td>\n",
       "      <td>NaN</td>\n",
       "    </tr>\n",
       "  </tbody>\n",
       "</table>\n",
       "</div>"
      ],
      "text/plain": [
       "                   A           B         C         D Non-Numeric    E\n",
       "2014-01-01  0.084800  999.000000 -1.002491 -1.399332         one  1.0\n",
       "2014-01-02 -1.797803    0.040625  0.137874 -1.635155         two  1.0\n",
       "2014-01-03  1.021571   -1.059128  0.115479  0.134165       three  NaN\n",
       "2014-01-04  0.131204   -1.822580 -1.300589 -0.337351        four  NaN"
      ]
     },
     "execution_count": 233,
     "metadata": {},
     "output_type": "execute_result"
    }
   ],
   "source": [
    "df1"
   ]
  },
  {
   "cell_type": "code",
   "execution_count": 234,
   "metadata": {
    "collapsed": false,
    "focus": false,
    "id": "3521940b-df04-432a-9cfc-18a1353d9652",
    "slideshow": {
     "slide_type": "subslide"
    }
   },
   "outputs": [
    {
     "data": {
      "text/html": [
       "<div>\n",
       "<table border=\"1\" class=\"dataframe\">\n",
       "  <thead>\n",
       "    <tr style=\"text-align: right;\">\n",
       "      <th></th>\n",
       "      <th>A</th>\n",
       "      <th>B</th>\n",
       "      <th>C</th>\n",
       "      <th>D</th>\n",
       "      <th>Non-Numeric</th>\n",
       "      <th>E</th>\n",
       "    </tr>\n",
       "  </thead>\n",
       "  <tbody>\n",
       "    <tr>\n",
       "      <th>2014-01-01</th>\n",
       "      <td>False</td>\n",
       "      <td>False</td>\n",
       "      <td>False</td>\n",
       "      <td>False</td>\n",
       "      <td>False</td>\n",
       "      <td>False</td>\n",
       "    </tr>\n",
       "    <tr>\n",
       "      <th>2014-01-02</th>\n",
       "      <td>False</td>\n",
       "      <td>False</td>\n",
       "      <td>False</td>\n",
       "      <td>False</td>\n",
       "      <td>False</td>\n",
       "      <td>False</td>\n",
       "    </tr>\n",
       "    <tr>\n",
       "      <th>2014-01-03</th>\n",
       "      <td>False</td>\n",
       "      <td>False</td>\n",
       "      <td>False</td>\n",
       "      <td>False</td>\n",
       "      <td>False</td>\n",
       "      <td>True</td>\n",
       "    </tr>\n",
       "    <tr>\n",
       "      <th>2014-01-04</th>\n",
       "      <td>False</td>\n",
       "      <td>False</td>\n",
       "      <td>False</td>\n",
       "      <td>False</td>\n",
       "      <td>False</td>\n",
       "      <td>True</td>\n",
       "    </tr>\n",
       "  </tbody>\n",
       "</table>\n",
       "</div>"
      ],
      "text/plain": [
       "                A      B      C      D Non-Numeric      E\n",
       "2014-01-01  False  False  False  False       False  False\n",
       "2014-01-02  False  False  False  False       False  False\n",
       "2014-01-03  False  False  False  False       False   True\n",
       "2014-01-04  False  False  False  False       False   True"
      ]
     },
     "execution_count": 234,
     "metadata": {},
     "output_type": "execute_result"
    }
   ],
   "source": [
    "# find where values are null\n",
    "pd.isnull(df1)"
   ]
  },
  {
   "cell_type": "markdown",
   "metadata": {
    "focus": false,
    "id": "74c34377-4b13-4562-9ef5-35ab50ee0a52",
    "slideshow": {
     "slide_type": "slide"
    }
   },
   "source": [
    "### Operations"
   ]
  },
  {
   "cell_type": "code",
   "execution_count": 242,
   "metadata": {
    "collapsed": false,
    "focus": false,
    "id": "98905902-a6d4-4935-ac8e-f2cb95e123e9",
    "slideshow": {
     "slide_type": "subslide"
    }
   },
   "outputs": [
    {
     "data": {
      "text/html": [
       "<div>\n",
       "<table border=\"1\" class=\"dataframe\">\n",
       "  <thead>\n",
       "    <tr style=\"text-align: right;\">\n",
       "      <th></th>\n",
       "      <th>A</th>\n",
       "      <th>B</th>\n",
       "      <th>C</th>\n",
       "      <th>D</th>\n",
       "    </tr>\n",
       "  </thead>\n",
       "  <tbody>\n",
       "    <tr>\n",
       "      <th>count</th>\n",
       "      <td>6.000000</td>\n",
       "      <td>6.000000</td>\n",
       "      <td>6.000000</td>\n",
       "      <td>6.000000</td>\n",
       "    </tr>\n",
       "    <tr>\n",
       "      <th>mean</th>\n",
       "      <td>0.079318</td>\n",
       "      <td>166.145468</td>\n",
       "      <td>-0.122515</td>\n",
       "      <td>-0.075207</td>\n",
       "    </tr>\n",
       "    <tr>\n",
       "      <th>std</th>\n",
       "      <td>1.040277</td>\n",
       "      <td>408.014667</td>\n",
       "      <td>0.837312</td>\n",
       "      <td>1.398928</td>\n",
       "    </tr>\n",
       "    <tr>\n",
       "      <th>min</th>\n",
       "      <td>-1.797803</td>\n",
       "      <td>-1.822580</td>\n",
       "      <td>-1.300589</td>\n",
       "      <td>-1.635155</td>\n",
       "    </tr>\n",
       "    <tr>\n",
       "      <th>25%</th>\n",
       "      <td>-0.005037</td>\n",
       "      <td>-0.784190</td>\n",
       "      <td>-0.722998</td>\n",
       "      <td>-1.133837</td>\n",
       "    </tr>\n",
       "    <tr>\n",
       "      <th>50%</th>\n",
       "      <td>0.108002</td>\n",
       "      <td>0.128109</td>\n",
       "      <td>0.126677</td>\n",
       "      <td>-0.101593</td>\n",
       "    </tr>\n",
       "    <tr>\n",
       "      <th>75%</th>\n",
       "      <td>0.798980</td>\n",
       "      <td>0.427622</td>\n",
       "      <td>0.500880</td>\n",
       "      <td>0.504038</td>\n",
       "    </tr>\n",
       "    <tr>\n",
       "      <th>max</th>\n",
       "      <td>1.071119</td>\n",
       "      <td>999.000000</td>\n",
       "      <td>0.692756</td>\n",
       "      <td>2.159103</td>\n",
       "    </tr>\n",
       "  </tbody>\n",
       "</table>\n",
       "</div>"
      ],
      "text/plain": [
       "              A           B         C         D\n",
       "count  6.000000    6.000000  6.000000  6.000000\n",
       "mean   0.079318  166.145468 -0.122515 -0.075207\n",
       "std    1.040277  408.014667  0.837312  1.398928\n",
       "min   -1.797803   -1.822580 -1.300589 -1.635155\n",
       "25%   -0.005037   -0.784190 -0.722998 -1.133837\n",
       "50%    0.108002    0.128109  0.126677 -0.101593\n",
       "75%    0.798980    0.427622  0.500880  0.504038\n",
       "max    1.071119  999.000000  0.692756  2.159103"
      ]
     },
     "execution_count": 242,
     "metadata": {},
     "output_type": "execute_result"
    }
   ],
   "source": [
    "df.describe()"
   ]
  },
  {
   "cell_type": "code",
   "execution_count": null,
   "metadata": {
    "collapsed": false,
    "focus": false,
    "id": "372219c5-5800-4502-83de-ac91bacb6cdb",
    "slideshow": {
     "slide_type": "subslide"
    }
   },
   "outputs": [],
   "source": [
    "df.mean(),df.mean(1) # Operation on two different axes"
   ]
  },
  {
   "cell_type": "code",
   "execution_count": 245,
   "metadata": {
    "collapsed": false
   },
   "outputs": [
    {
     "data": {
      "text/plain": [
       "A      0.079318\n",
       "B    166.145468\n",
       "C     -0.122515\n",
       "D     -0.075207\n",
       "dtype: float64"
      ]
     },
     "execution_count": 245,
     "metadata": {},
     "output_type": "execute_result"
    }
   ],
   "source": [
    "df.mean(0)"
   ]
  },
  {
   "cell_type": "markdown",
   "metadata": {
    "focus": false,
    "id": "aefd18b0-3fc6-4b15-bd6f-dd18136547a1",
    "slideshow": {
     "slide_type": "slide"
    }
   },
   "source": [
    "### Applying functions"
   ]
  },
  {
   "cell_type": "code",
   "execution_count": 246,
   "metadata": {
    "collapsed": false,
    "focus": false,
    "id": "1b4b693d-27fe-4eb4-8aa4-4b2a4c27a1a2",
    "slideshow": {
     "slide_type": "subslide"
    }
   },
   "outputs": [
    {
     "data": {
      "text/html": [
       "<div>\n",
       "<table border=\"1\" class=\"dataframe\">\n",
       "  <thead>\n",
       "    <tr style=\"text-align: right;\">\n",
       "      <th></th>\n",
       "      <th>A</th>\n",
       "      <th>B</th>\n",
       "      <th>C</th>\n",
       "      <th>D</th>\n",
       "      <th>Non-Numeric</th>\n",
       "    </tr>\n",
       "  </thead>\n",
       "  <tbody>\n",
       "    <tr>\n",
       "      <th>2014-01-01</th>\n",
       "      <td>0.084800</td>\n",
       "      <td>999.000000</td>\n",
       "      <td>-1.002491</td>\n",
       "      <td>-1.399332</td>\n",
       "      <td>one</td>\n",
       "    </tr>\n",
       "    <tr>\n",
       "      <th>2014-01-02</th>\n",
       "      <td>-1.797803</td>\n",
       "      <td>0.040625</td>\n",
       "      <td>0.137874</td>\n",
       "      <td>-1.635155</td>\n",
       "      <td>two</td>\n",
       "    </tr>\n",
       "    <tr>\n",
       "      <th>2014-01-03</th>\n",
       "      <td>1.021571</td>\n",
       "      <td>-1.059128</td>\n",
       "      <td>0.115479</td>\n",
       "      <td>0.134165</td>\n",
       "      <td>three</td>\n",
       "    </tr>\n",
       "    <tr>\n",
       "      <th>2014-01-04</th>\n",
       "      <td>0.131204</td>\n",
       "      <td>-1.822580</td>\n",
       "      <td>-1.300589</td>\n",
       "      <td>-0.337351</td>\n",
       "      <td>four</td>\n",
       "    </tr>\n",
       "    <tr>\n",
       "      <th>2014-01-05</th>\n",
       "      <td>1.071119</td>\n",
       "      <td>0.498298</td>\n",
       "      <td>0.621882</td>\n",
       "      <td>0.627329</td>\n",
       "      <td>five</td>\n",
       "    </tr>\n",
       "    <tr>\n",
       "      <th>2014-01-06</th>\n",
       "      <td>-0.034982</td>\n",
       "      <td>0.215594</td>\n",
       "      <td>0.692756</td>\n",
       "      <td>2.159103</td>\n",
       "      <td>six</td>\n",
       "    </tr>\n",
       "  </tbody>\n",
       "</table>\n",
       "</div>"
      ],
      "text/plain": [
       "                   A           B         C         D Non-Numeric\n",
       "2014-01-01  0.084800  999.000000 -1.002491 -1.399332         one\n",
       "2014-01-02 -1.797803    0.040625  0.137874 -1.635155         two\n",
       "2014-01-03  1.021571   -1.059128  0.115479  0.134165       three\n",
       "2014-01-04  0.131204   -1.822580 -1.300589 -0.337351        four\n",
       "2014-01-05  1.071119    0.498298  0.621882  0.627329        five\n",
       "2014-01-06 -0.034982    0.215594  0.692756  2.159103         six"
      ]
     },
     "execution_count": 246,
     "metadata": {},
     "output_type": "execute_result"
    }
   ],
   "source": [
    "df"
   ]
  },
  {
   "cell_type": "code",
   "execution_count": 249,
   "metadata": {
    "collapsed": false,
    "focus": false,
    "id": "acb5d0e0-b6f8-4dc3-8f42-e2ca34a6aa67",
    "slideshow": {
     "slide_type": "fragment"
    }
   },
   "outputs": [
    {
     "data": {
      "text/html": [
       "<div>\n",
       "<table border=\"1\" class=\"dataframe\">\n",
       "  <thead>\n",
       "    <tr style=\"text-align: right;\">\n",
       "      <th></th>\n",
       "      <th>A</th>\n",
       "      <th>B</th>\n",
       "      <th>C</th>\n",
       "      <th>D</th>\n",
       "      <th>Non-Numeric</th>\n",
       "    </tr>\n",
       "  </thead>\n",
       "  <tbody>\n",
       "    <tr>\n",
       "      <th>2014-01-01</th>\n",
       "      <td>0.084800</td>\n",
       "      <td>999.000000</td>\n",
       "      <td>-1.002491</td>\n",
       "      <td>-1.399332</td>\n",
       "      <td>one</td>\n",
       "    </tr>\n",
       "    <tr>\n",
       "      <th>2014-01-02</th>\n",
       "      <td>-1.713004</td>\n",
       "      <td>999.040625</td>\n",
       "      <td>-0.864617</td>\n",
       "      <td>-3.034487</td>\n",
       "      <td>onetwo</td>\n",
       "    </tr>\n",
       "    <tr>\n",
       "      <th>2014-01-03</th>\n",
       "      <td>-0.691432</td>\n",
       "      <td>997.981496</td>\n",
       "      <td>-0.749138</td>\n",
       "      <td>-2.900321</td>\n",
       "      <td>onetwothree</td>\n",
       "    </tr>\n",
       "    <tr>\n",
       "      <th>2014-01-04</th>\n",
       "      <td>-0.560229</td>\n",
       "      <td>996.158917</td>\n",
       "      <td>-2.049727</td>\n",
       "      <td>-3.237672</td>\n",
       "      <td>onetwothreefour</td>\n",
       "    </tr>\n",
       "    <tr>\n",
       "      <th>2014-01-05</th>\n",
       "      <td>0.510890</td>\n",
       "      <td>996.657214</td>\n",
       "      <td>-1.427845</td>\n",
       "      <td>-2.610343</td>\n",
       "      <td>onetwothreefourfive</td>\n",
       "    </tr>\n",
       "    <tr>\n",
       "      <th>2014-01-06</th>\n",
       "      <td>0.475908</td>\n",
       "      <td>996.872808</td>\n",
       "      <td>-0.735089</td>\n",
       "      <td>-0.451240</td>\n",
       "      <td>onetwothreefourfivesix</td>\n",
       "    </tr>\n",
       "  </tbody>\n",
       "</table>\n",
       "</div>"
      ],
      "text/plain": [
       "                   A           B         C         D             Non-Numeric\n",
       "2014-01-01  0.084800  999.000000 -1.002491 -1.399332                     one\n",
       "2014-01-02 -1.713004  999.040625 -0.864617 -3.034487                  onetwo\n",
       "2014-01-03 -0.691432  997.981496 -0.749138 -2.900321             onetwothree\n",
       "2014-01-04 -0.560229  996.158917 -2.049727 -3.237672         onetwothreefour\n",
       "2014-01-05  0.510890  996.657214 -1.427845 -2.610343     onetwothreefourfive\n",
       "2014-01-06  0.475908  996.872808 -0.735089 -0.451240  onetwothreefourfivesix"
      ]
     },
     "execution_count": 249,
     "metadata": {},
     "output_type": "execute_result"
    }
   ],
   "source": [
    "df.apply(np.cumsum)"
   ]
  },
  {
   "cell_type": "code",
   "execution_count": 257,
   "metadata": {
    "collapsed": false
   },
   "outputs": [
    {
     "data": {
      "text/html": [
       "<div>\n",
       "<table border=\"1\" class=\"dataframe\">\n",
       "  <thead>\n",
       "    <tr style=\"text-align: right;\">\n",
       "      <th></th>\n",
       "      <th>A</th>\n",
       "      <th>B</th>\n",
       "      <th>C</th>\n",
       "      <th>D</th>\n",
       "    </tr>\n",
       "  </thead>\n",
       "  <tbody>\n",
       "    <tr>\n",
       "      <th>2014-01-01</th>\n",
       "      <td>0.084800</td>\n",
       "      <td>999.000000</td>\n",
       "      <td>-1.002491</td>\n",
       "      <td>-1.399332</td>\n",
       "    </tr>\n",
       "    <tr>\n",
       "      <th>2014-01-02</th>\n",
       "      <td>-1.797803</td>\n",
       "      <td>0.040625</td>\n",
       "      <td>0.137874</td>\n",
       "      <td>-1.635155</td>\n",
       "    </tr>\n",
       "    <tr>\n",
       "      <th>2014-01-03</th>\n",
       "      <td>1.021571</td>\n",
       "      <td>-1.059128</td>\n",
       "      <td>0.115479</td>\n",
       "      <td>0.134165</td>\n",
       "    </tr>\n",
       "    <tr>\n",
       "      <th>2014-01-04</th>\n",
       "      <td>0.131204</td>\n",
       "      <td>-1.822580</td>\n",
       "      <td>-1.300589</td>\n",
       "      <td>-0.337351</td>\n",
       "    </tr>\n",
       "    <tr>\n",
       "      <th>2014-01-05</th>\n",
       "      <td>1.071119</td>\n",
       "      <td>0.498298</td>\n",
       "      <td>0.621882</td>\n",
       "      <td>0.627329</td>\n",
       "    </tr>\n",
       "    <tr>\n",
       "      <th>2014-01-06</th>\n",
       "      <td>-0.034982</td>\n",
       "      <td>0.215594</td>\n",
       "      <td>0.692756</td>\n",
       "      <td>2.159103</td>\n",
       "    </tr>\n",
       "  </tbody>\n",
       "</table>\n",
       "</div>"
      ],
      "text/plain": [
       "                   A           B         C         D\n",
       "2014-01-01  0.084800  999.000000 -1.002491 -1.399332\n",
       "2014-01-02 -1.797803    0.040625  0.137874 -1.635155\n",
       "2014-01-03  1.021571   -1.059128  0.115479  0.134165\n",
       "2014-01-04  0.131204   -1.822580 -1.300589 -0.337351\n",
       "2014-01-05  1.071119    0.498298  0.621882  0.627329\n",
       "2014-01-06 -0.034982    0.215594  0.692756  2.159103"
      ]
     },
     "execution_count": 257,
     "metadata": {},
     "output_type": "execute_result"
    }
   ],
   "source": [
    "df.apply(np.cumsum)\n",
    "#del df['Non-Numeric']\n",
    "df.apply(lambda x : x.max() - x.min())\n",
    "df"
   ]
  },
  {
   "cell_type": "code",
   "execution_count": 260,
   "metadata": {
    "collapsed": false,
    "focus": false,
    "id": "76608f05-bac8-4938-b1c5-efa228fcbb7b",
    "scrolled": true,
    "slideshow": {
     "slide_type": "fragment"
    }
   },
   "outputs": [
    {
     "data": {
      "text/plain": [
       "A       2.868922\n",
       "B    1000.822580\n",
       "C       1.993345\n",
       "D       3.794258\n",
       "dtype: float64"
      ]
     },
     "execution_count": 260,
     "metadata": {},
     "output_type": "execute_result"
    }
   ],
   "source": [
    "df.apply(lambda x: x.max() - x.min())"
   ]
  },
  {
   "cell_type": "code",
   "execution_count": 271,
   "metadata": {
    "collapsed": false,
    "focus": false,
    "id": "802ec78f-0525-40e0-ab4e-4600eb22b1ed",
    "slideshow": {
     "slide_type": "subslide"
    }
   },
   "outputs": [
    {
     "data": {
      "text/plain": [
       "0       a\n",
       "1       b\n",
       "2       c\n",
       "3    aaba\n",
       "4    baca\n",
       "5     NaN\n",
       "6    caba\n",
       "7     dog\n",
       "8     cat\n",
       "dtype: object"
      ]
     },
     "execution_count": 271,
     "metadata": {},
     "output_type": "execute_result"
    }
   ],
   "source": [
    "# Built in string methods\n",
    "s = pd.Series(['A', 'B', 'C', 'Aaba', 'Baca', np.nan, 'CABA', 'dog', 'cat'])\n",
    "s.str.lower()"
   ]
  },
  {
   "cell_type": "markdown",
   "metadata": {
    "focus": false,
    "id": "ce36d58b-a2b3-4fb0-b21d-d8e40425d203",
    "slideshow": {
     "slide_type": "subslide"
    }
   },
   "source": [
    "### Merge"
   ]
  },
  {
   "cell_type": "code",
   "execution_count": 279,
   "metadata": {
    "collapsed": false,
    "focus": false,
    "id": "5a03c068-8ce7-4bc2-a25a-ed1744d56765",
    "slideshow": {
     "slide_type": "subslide"
    }
   },
   "outputs": [
    {
     "data": {
      "text/plain": [
       "array([[ 0.42183355, -0.32033865, -0.23661422,  0.32224753],\n",
       "       [-0.21198112, -1.56570504,  0.14032213, -0.48750009],\n",
       "       [ 0.60363807,  1.61241957, -0.89796937, -0.61202964],\n",
       "       [-0.07106788, -0.21773386,  1.86507736, -0.61558349],\n",
       "       [-0.33521525,  0.50211787,  1.78445247, -0.4551627 ],\n",
       "       [ 1.15946107, -0.21221223,  0.02040347,  0.58956764],\n",
       "       [ 1.08689585,  0.11074967, -0.80651124,  0.68624069],\n",
       "       [ 1.37006509, -0.84436956, -0.88298101,  1.09297666],\n",
       "       [ 1.885896  ,  0.94704294,  0.28903942, -1.25621104],\n",
       "       [-0.27354847, -2.41778217,  1.76315609,  0.36214333]])"
      ]
     },
     "execution_count": 279,
     "metadata": {},
     "output_type": "execute_result"
    }
   ],
   "source": [
    "np.random.randn(10,4)"
   ]
  },
  {
   "cell_type": "code",
   "execution_count": 281,
   "metadata": {
    "collapsed": false
   },
   "outputs": [
    {
     "data": {
      "text/html": [
       "<div>\n",
       "<table border=\"1\" class=\"dataframe\">\n",
       "  <thead>\n",
       "    <tr style=\"text-align: right;\">\n",
       "      <th></th>\n",
       "      <th>0</th>\n",
       "      <th>1</th>\n",
       "      <th>2</th>\n",
       "      <th>3</th>\n",
       "    </tr>\n",
       "  </thead>\n",
       "  <tbody>\n",
       "    <tr>\n",
       "      <th>0</th>\n",
       "      <td>-0.274697</td>\n",
       "      <td>-1.104222</td>\n",
       "      <td>-0.303426</td>\n",
       "      <td>-0.799404</td>\n",
       "    </tr>\n",
       "    <tr>\n",
       "      <th>1</th>\n",
       "      <td>1.038449</td>\n",
       "      <td>-0.386726</td>\n",
       "      <td>-1.231395</td>\n",
       "      <td>1.120606</td>\n",
       "    </tr>\n",
       "    <tr>\n",
       "      <th>2</th>\n",
       "      <td>2.195843</td>\n",
       "      <td>-1.363055</td>\n",
       "      <td>-1.790748</td>\n",
       "      <td>1.363736</td>\n",
       "    </tr>\n",
       "    <tr>\n",
       "      <th>3</th>\n",
       "      <td>1.095284</td>\n",
       "      <td>-0.323342</td>\n",
       "      <td>0.448698</td>\n",
       "      <td>1.108241</td>\n",
       "    </tr>\n",
       "    <tr>\n",
       "      <th>4</th>\n",
       "      <td>-0.412855</td>\n",
       "      <td>0.268300</td>\n",
       "      <td>-0.062011</td>\n",
       "      <td>-2.257988</td>\n",
       "    </tr>\n",
       "    <tr>\n",
       "      <th>5</th>\n",
       "      <td>-0.366227</td>\n",
       "      <td>-0.404640</td>\n",
       "      <td>-1.640748</td>\n",
       "      <td>0.091117</td>\n",
       "    </tr>\n",
       "    <tr>\n",
       "      <th>6</th>\n",
       "      <td>0.268067</td>\n",
       "      <td>2.964466</td>\n",
       "      <td>-1.537531</td>\n",
       "      <td>-0.417562</td>\n",
       "    </tr>\n",
       "    <tr>\n",
       "      <th>7</th>\n",
       "      <td>1.323147</td>\n",
       "      <td>-0.432098</td>\n",
       "      <td>-1.674593</td>\n",
       "      <td>-0.489555</td>\n",
       "    </tr>\n",
       "    <tr>\n",
       "      <th>8</th>\n",
       "      <td>-0.570253</td>\n",
       "      <td>0.565922</td>\n",
       "      <td>1.242691</td>\n",
       "      <td>-0.391482</td>\n",
       "    </tr>\n",
       "    <tr>\n",
       "      <th>9</th>\n",
       "      <td>0.427171</td>\n",
       "      <td>-0.993328</td>\n",
       "      <td>0.496681</td>\n",
       "      <td>1.282797</td>\n",
       "    </tr>\n",
       "  </tbody>\n",
       "</table>\n",
       "</div>"
      ],
      "text/plain": [
       "          0         1         2         3\n",
       "0 -0.274697 -1.104222 -0.303426 -0.799404\n",
       "1  1.038449 -0.386726 -1.231395  1.120606\n",
       "2  2.195843 -1.363055 -1.790748  1.363736\n",
       "3  1.095284 -0.323342  0.448698  1.108241\n",
       "4 -0.412855  0.268300 -0.062011 -2.257988\n",
       "5 -0.366227 -0.404640 -1.640748  0.091117\n",
       "6  0.268067  2.964466 -1.537531 -0.417562\n",
       "7  1.323147 -0.432098 -1.674593 -0.489555\n",
       "8 -0.570253  0.565922  1.242691 -0.391482\n",
       "9  0.427171 -0.993328  0.496681  1.282797"
      ]
     },
     "execution_count": 281,
     "metadata": {},
     "output_type": "execute_result"
    }
   ],
   "source": [
    "A = np.random.randn(10,4)\n",
    "df = pd.DataFrame(A)\n",
    "df"
   ]
  },
  {
   "cell_type": "code",
   "execution_count": null,
   "metadata": {
    "collapsed": false,
    "focus": false,
    "id": "54d4be63-ab84-4c0c-8c87-a4bf1affb1ec",
    "scrolled": true,
    "slideshow": {
     "slide_type": "subslide"
    }
   },
   "outputs": [],
   "source": [
    "#Concatenating pandas objects together\n",
    "df = pd.DataFrame(np.random.randn(10,4))\n",
    "df"
   ]
  },
  {
   "cell_type": "code",
   "execution_count": 285,
   "metadata": {
    "collapsed": false
   },
   "outputs": [
    {
     "data": {
      "text/html": [
       "<div>\n",
       "<table border=\"1\" class=\"dataframe\">\n",
       "  <thead>\n",
       "    <tr style=\"text-align: right;\">\n",
       "      <th></th>\n",
       "      <th>0</th>\n",
       "      <th>1</th>\n",
       "      <th>2</th>\n",
       "      <th>3</th>\n",
       "    </tr>\n",
       "  </thead>\n",
       "  <tbody>\n",
       "    <tr>\n",
       "      <th>0</th>\n",
       "      <td>-0.274697</td>\n",
       "      <td>-1.104222</td>\n",
       "      <td>-0.303426</td>\n",
       "      <td>-0.799404</td>\n",
       "    </tr>\n",
       "    <tr>\n",
       "      <th>1</th>\n",
       "      <td>1.038449</td>\n",
       "      <td>-0.386726</td>\n",
       "      <td>-1.231395</td>\n",
       "      <td>1.120606</td>\n",
       "    </tr>\n",
       "    <tr>\n",
       "      <th>2</th>\n",
       "      <td>2.195843</td>\n",
       "      <td>-1.363055</td>\n",
       "      <td>-1.790748</td>\n",
       "      <td>1.363736</td>\n",
       "    </tr>\n",
       "    <tr>\n",
       "      <th>3</th>\n",
       "      <td>1.095284</td>\n",
       "      <td>-0.323342</td>\n",
       "      <td>0.448698</td>\n",
       "      <td>1.108241</td>\n",
       "    </tr>\n",
       "    <tr>\n",
       "      <th>4</th>\n",
       "      <td>-0.412855</td>\n",
       "      <td>0.268300</td>\n",
       "      <td>-0.062011</td>\n",
       "      <td>-2.257988</td>\n",
       "    </tr>\n",
       "    <tr>\n",
       "      <th>5</th>\n",
       "      <td>-0.366227</td>\n",
       "      <td>-0.404640</td>\n",
       "      <td>-1.640748</td>\n",
       "      <td>0.091117</td>\n",
       "    </tr>\n",
       "    <tr>\n",
       "      <th>6</th>\n",
       "      <td>0.268067</td>\n",
       "      <td>2.964466</td>\n",
       "      <td>-1.537531</td>\n",
       "      <td>-0.417562</td>\n",
       "    </tr>\n",
       "    <tr>\n",
       "      <th>7</th>\n",
       "      <td>1.323147</td>\n",
       "      <td>-0.432098</td>\n",
       "      <td>-1.674593</td>\n",
       "      <td>-0.489555</td>\n",
       "    </tr>\n",
       "    <tr>\n",
       "      <th>8</th>\n",
       "      <td>-0.570253</td>\n",
       "      <td>0.565922</td>\n",
       "      <td>1.242691</td>\n",
       "      <td>-0.391482</td>\n",
       "    </tr>\n",
       "    <tr>\n",
       "      <th>9</th>\n",
       "      <td>0.427171</td>\n",
       "      <td>-0.993328</td>\n",
       "      <td>0.496681</td>\n",
       "      <td>1.282797</td>\n",
       "    </tr>\n",
       "  </tbody>\n",
       "</table>\n",
       "</div>"
      ],
      "text/plain": [
       "          0         1         2         3\n",
       "0 -0.274697 -1.104222 -0.303426 -0.799404\n",
       "1  1.038449 -0.386726 -1.231395  1.120606\n",
       "2  2.195843 -1.363055 -1.790748  1.363736\n",
       "3  1.095284 -0.323342  0.448698  1.108241\n",
       "4 -0.412855  0.268300 -0.062011 -2.257988\n",
       "5 -0.366227 -0.404640 -1.640748  0.091117\n",
       "6  0.268067  2.964466 -1.537531 -0.417562\n",
       "7  1.323147 -0.432098 -1.674593 -0.489555\n",
       "8 -0.570253  0.565922  1.242691 -0.391482\n",
       "9  0.427171 -0.993328  0.496681  1.282797"
      ]
     },
     "execution_count": 285,
     "metadata": {},
     "output_type": "execute_result"
    }
   ],
   "source": [
    "pieces = [df[:3], df[3:7], df[7:]]\n",
    "pd.concat(pieces)"
   ]
  },
  {
   "cell_type": "code",
   "execution_count": 282,
   "metadata": {
    "collapsed": false,
    "focus": false,
    "id": "f39f64e5-7416-4067-867d-93d36674c19b",
    "slideshow": {
     "slide_type": "subslide"
    }
   },
   "outputs": [
    {
     "data": {
      "text/plain": [
       "[          0         1         2         3\n",
       " 0 -0.274697 -1.104222 -0.303426 -0.799404\n",
       " 1  1.038449 -0.386726 -1.231395  1.120606\n",
       " 2  2.195843 -1.363055 -1.790748  1.363736,\n",
       "           0         1         2         3\n",
       " 3  1.095284 -0.323342  0.448698  1.108241\n",
       " 4 -0.412855  0.268300 -0.062011 -2.257988\n",
       " 5 -0.366227 -0.404640 -1.640748  0.091117\n",
       " 6  0.268067  2.964466 -1.537531 -0.417562,\n",
       "           0         1         2         3\n",
       " 7  1.323147 -0.432098 -1.674593 -0.489555\n",
       " 8 -0.570253  0.565922  1.242691 -0.391482\n",
       " 9  0.427171 -0.993328  0.496681  1.282797]"
      ]
     },
     "execution_count": 282,
     "metadata": {},
     "output_type": "execute_result"
    }
   ],
   "source": [
    "# Break it into pieces\n",
    "pieces = [df[:3], df[3:7],df[7:]]\n",
    "pieces"
   ]
  },
  {
   "cell_type": "code",
   "execution_count": 283,
   "metadata": {
    "collapsed": false,
    "focus": false,
    "id": "1b3617e6-0a0e-4f0a-b8a1-8715c961aa8f",
    "slideshow": {
     "slide_type": "fragment"
    }
   },
   "outputs": [
    {
     "data": {
      "text/html": [
       "<div>\n",
       "<table border=\"1\" class=\"dataframe\">\n",
       "  <thead>\n",
       "    <tr style=\"text-align: right;\">\n",
       "      <th></th>\n",
       "      <th>0</th>\n",
       "      <th>1</th>\n",
       "      <th>2</th>\n",
       "      <th>3</th>\n",
       "    </tr>\n",
       "  </thead>\n",
       "  <tbody>\n",
       "    <tr>\n",
       "      <th>0</th>\n",
       "      <td>-0.274697</td>\n",
       "      <td>-1.104222</td>\n",
       "      <td>-0.303426</td>\n",
       "      <td>-0.799404</td>\n",
       "    </tr>\n",
       "    <tr>\n",
       "      <th>1</th>\n",
       "      <td>1.038449</td>\n",
       "      <td>-0.386726</td>\n",
       "      <td>-1.231395</td>\n",
       "      <td>1.120606</td>\n",
       "    </tr>\n",
       "    <tr>\n",
       "      <th>2</th>\n",
       "      <td>2.195843</td>\n",
       "      <td>-1.363055</td>\n",
       "      <td>-1.790748</td>\n",
       "      <td>1.363736</td>\n",
       "    </tr>\n",
       "    <tr>\n",
       "      <th>3</th>\n",
       "      <td>1.095284</td>\n",
       "      <td>-0.323342</td>\n",
       "      <td>0.448698</td>\n",
       "      <td>1.108241</td>\n",
       "    </tr>\n",
       "    <tr>\n",
       "      <th>4</th>\n",
       "      <td>-0.412855</td>\n",
       "      <td>0.268300</td>\n",
       "      <td>-0.062011</td>\n",
       "      <td>-2.257988</td>\n",
       "    </tr>\n",
       "    <tr>\n",
       "      <th>5</th>\n",
       "      <td>-0.366227</td>\n",
       "      <td>-0.404640</td>\n",
       "      <td>-1.640748</td>\n",
       "      <td>0.091117</td>\n",
       "    </tr>\n",
       "    <tr>\n",
       "      <th>6</th>\n",
       "      <td>0.268067</td>\n",
       "      <td>2.964466</td>\n",
       "      <td>-1.537531</td>\n",
       "      <td>-0.417562</td>\n",
       "    </tr>\n",
       "    <tr>\n",
       "      <th>7</th>\n",
       "      <td>1.323147</td>\n",
       "      <td>-0.432098</td>\n",
       "      <td>-1.674593</td>\n",
       "      <td>-0.489555</td>\n",
       "    </tr>\n",
       "    <tr>\n",
       "      <th>8</th>\n",
       "      <td>-0.570253</td>\n",
       "      <td>0.565922</td>\n",
       "      <td>1.242691</td>\n",
       "      <td>-0.391482</td>\n",
       "    </tr>\n",
       "    <tr>\n",
       "      <th>9</th>\n",
       "      <td>0.427171</td>\n",
       "      <td>-0.993328</td>\n",
       "      <td>0.496681</td>\n",
       "      <td>1.282797</td>\n",
       "    </tr>\n",
       "  </tbody>\n",
       "</table>\n",
       "</div>"
      ],
      "text/plain": [
       "          0         1         2         3\n",
       "0 -0.274697 -1.104222 -0.303426 -0.799404\n",
       "1  1.038449 -0.386726 -1.231395  1.120606\n",
       "2  2.195843 -1.363055 -1.790748  1.363736\n",
       "3  1.095284 -0.323342  0.448698  1.108241\n",
       "4 -0.412855  0.268300 -0.062011 -2.257988\n",
       "5 -0.366227 -0.404640 -1.640748  0.091117\n",
       "6  0.268067  2.964466 -1.537531 -0.417562\n",
       "7  1.323147 -0.432098 -1.674593 -0.489555\n",
       "8 -0.570253  0.565922  1.242691 -0.391482\n",
       "9  0.427171 -0.993328  0.496681  1.282797"
      ]
     },
     "execution_count": 283,
     "metadata": {},
     "output_type": "execute_result"
    }
   ],
   "source": [
    "pd.concat(pieces)"
   ]
  },
  {
   "cell_type": "code",
   "execution_count": null,
   "metadata": {
    "collapsed": false,
    "focus": false,
    "id": "487ed85b-a5c7-436b-80ce-53b7c5e23948",
    "slideshow": {
     "slide_type": "fragment"
    }
   },
   "outputs": [],
   "source": [
    "# Also can \"Join\" and \"Append\"\n",
    "df"
   ]
  },
  {
   "cell_type": "code",
   "execution_count": 292,
   "metadata": {
    "collapsed": false
   },
   "outputs": [
    {
     "data": {
      "text/html": [
       "<div>\n",
       "<table border=\"1\" class=\"dataframe\">\n",
       "  <thead>\n",
       "    <tr style=\"text-align: right;\">\n",
       "      <th></th>\n",
       "      <th>key</th>\n",
       "      <th>value_x</th>\n",
       "      <th>value_y</th>\n",
       "    </tr>\n",
       "  </thead>\n",
       "  <tbody>\n",
       "    <tr>\n",
       "      <th>0</th>\n",
       "      <td>foo</td>\n",
       "      <td>1</td>\n",
       "      <td>3</td>\n",
       "    </tr>\n",
       "    <tr>\n",
       "      <th>1</th>\n",
       "      <td>foo</td>\n",
       "      <td>1</td>\n",
       "      <td>4</td>\n",
       "    </tr>\n",
       "    <tr>\n",
       "      <th>2</th>\n",
       "      <td>foo</td>\n",
       "      <td>2</td>\n",
       "      <td>3</td>\n",
       "    </tr>\n",
       "    <tr>\n",
       "      <th>3</th>\n",
       "      <td>foo</td>\n",
       "      <td>2</td>\n",
       "      <td>4</td>\n",
       "    </tr>\n",
       "  </tbody>\n",
       "</table>\n",
       "</div>"
      ],
      "text/plain": [
       "   key  value_x  value_y\n",
       "0  foo        1        3\n",
       "1  foo        1        4\n",
       "2  foo        2        3\n",
       "3  foo        2        4"
      ]
     },
     "execution_count": 292,
     "metadata": {},
     "output_type": "execute_result"
    }
   ],
   "source": [
    "left = pd.DataFrame({\"key\" : [\"foo\", \"foo\"],\n",
    "                    \"value\" : [1,2]})\n",
    "right = pd.DataFrame({\"key\": [\"foo\", \"foo\"],\n",
    "                     \"value\" : [3,4]})\n",
    "pd.merge(left, right, on = \"key\")"
   ]
  },
  {
   "cell_type": "code",
   "execution_count": 298,
   "metadata": {
    "collapsed": false
   },
   "outputs": [
    {
     "data": {
      "text/html": [
       "<div>\n",
       "<table border=\"1\" class=\"dataframe\">\n",
       "  <thead>\n",
       "    <tr style=\"text-align: right;\">\n",
       "      <th></th>\n",
       "      <th>A</th>\n",
       "      <th>B</th>\n",
       "      <th>C</th>\n",
       "      <th>D</th>\n",
       "      <th>E</th>\n",
       "    </tr>\n",
       "  </thead>\n",
       "  <tbody>\n",
       "    <tr>\n",
       "      <th>0</th>\n",
       "      <td>1.196189</td>\n",
       "      <td>0.114386</td>\n",
       "      <td>-0.163665</td>\n",
       "      <td>-0.661741</td>\n",
       "      <td>-0.764101</td>\n",
       "    </tr>\n",
       "    <tr>\n",
       "      <th>1</th>\n",
       "      <td>-0.082848</td>\n",
       "      <td>-1.602741</td>\n",
       "      <td>1.593238</td>\n",
       "      <td>-2.978723</td>\n",
       "      <td>-0.306209</td>\n",
       "    </tr>\n",
       "    <tr>\n",
       "      <th>2</th>\n",
       "      <td>1.263238</td>\n",
       "      <td>0.103600</td>\n",
       "      <td>-1.829447</td>\n",
       "      <td>-1.435232</td>\n",
       "      <td>0.309468</td>\n",
       "    </tr>\n",
       "    <tr>\n",
       "      <th>3</th>\n",
       "      <td>-0.245315</td>\n",
       "      <td>-1.203407</td>\n",
       "      <td>1.023542</td>\n",
       "      <td>0.991778</td>\n",
       "      <td>0.056869</td>\n",
       "    </tr>\n",
       "    <tr>\n",
       "      <th>4</th>\n",
       "      <td>-0.693410</td>\n",
       "      <td>-0.669944</td>\n",
       "      <td>0.512408</td>\n",
       "      <td>0.309671</td>\n",
       "      <td>0.311142</td>\n",
       "    </tr>\n",
       "    <tr>\n",
       "      <th>5</th>\n",
       "      <td>-1.104521</td>\n",
       "      <td>1.356466</td>\n",
       "      <td>-0.128412</td>\n",
       "      <td>1.797464</td>\n",
       "      <td>-1.982154</td>\n",
       "    </tr>\n",
       "    <tr>\n",
       "      <th>6</th>\n",
       "      <td>0.173359</td>\n",
       "      <td>0.136100</td>\n",
       "      <td>0.171246</td>\n",
       "      <td>-0.024910</td>\n",
       "      <td>-0.517525</td>\n",
       "    </tr>\n",
       "    <tr>\n",
       "      <th>7</th>\n",
       "      <td>-1.557143</td>\n",
       "      <td>0.285764</td>\n",
       "      <td>-0.017078</td>\n",
       "      <td>-1.898950</td>\n",
       "      <td>1.021858</td>\n",
       "    </tr>\n",
       "    <tr>\n",
       "      <th>8</th>\n",
       "      <td>-2.466284</td>\n",
       "      <td>-0.107782</td>\n",
       "      <td>-2.385029</td>\n",
       "      <td>0.224280</td>\n",
       "      <td>2.127956</td>\n",
       "    </tr>\n",
       "    <tr>\n",
       "      <th>9</th>\n",
       "      <td>-0.173257</td>\n",
       "      <td>-0.579996</td>\n",
       "      <td>0.651166</td>\n",
       "      <td>1.056861</td>\n",
       "      <td>2.051142</td>\n",
       "    </tr>\n",
       "    <tr>\n",
       "      <th>10</th>\n",
       "      <td>-0.245315</td>\n",
       "      <td>-1.203407</td>\n",
       "      <td>1.023542</td>\n",
       "      <td>0.991778</td>\n",
       "      <td>0.056869</td>\n",
       "    </tr>\n",
       "  </tbody>\n",
       "</table>\n",
       "</div>"
      ],
      "text/plain": [
       "           A         B         C         D         E\n",
       "0   1.196189  0.114386 -0.163665 -0.661741 -0.764101\n",
       "1  -0.082848 -1.602741  1.593238 -2.978723 -0.306209\n",
       "2   1.263238  0.103600 -1.829447 -1.435232  0.309468\n",
       "3  -0.245315 -1.203407  1.023542  0.991778  0.056869\n",
       "4  -0.693410 -0.669944  0.512408  0.309671  0.311142\n",
       "5  -1.104521  1.356466 -0.128412  1.797464 -1.982154\n",
       "6   0.173359  0.136100  0.171246 -0.024910 -0.517525\n",
       "7  -1.557143  0.285764 -0.017078 -1.898950  1.021858\n",
       "8  -2.466284 -0.107782 -2.385029  0.224280  2.127956\n",
       "9  -0.173257 -0.579996  0.651166  1.056861  2.051142\n",
       "10 -0.245315 -1.203407  1.023542  0.991778  0.056869"
      ]
     },
     "execution_count": 298,
     "metadata": {},
     "output_type": "execute_result"
    }
   ],
   "source": [
    "test = pd.DataFrame(np.random.randn(10,5), columns = ['A', 'B', 'C', 'D', 'E'])\n",
    "test\n",
    "x = test.iloc[3]\n",
    "test.append(x, ignore_index = True)"
   ]
  },
  {
   "cell_type": "markdown",
   "metadata": {
    "focus": false,
    "id": "d71e2439-0018-4564-a3c9-08b21df14f49",
    "slideshow": {
     "slide_type": "subslide"
    }
   },
   "source": [
    "### Grouping\n"
   ]
  },
  {
   "cell_type": "code",
   "execution_count": 299,
   "metadata": {
    "collapsed": false,
    "focus": false,
    "id": "fa9636d6-592b-4166-b440-ab7fccf1a617",
    "slideshow": {
     "slide_type": "subslide"
    }
   },
   "outputs": [],
   "source": [
    "df = pd.DataFrame({'A' : ['foo', 'bar', 'foo', 'bar',\n",
    "                       'foo', 'bar', 'foo', 'foo'],\n",
    "                       'B' : ['one', 'one', 'two', 'three',\n",
    "                             'two', 'two', 'one', 'three'],\n",
    "                       'C' : np.random.randn(8),\n",
    "                       'D' : np.random.randn(8)})"
   ]
  },
  {
   "cell_type": "code",
   "execution_count": 305,
   "metadata": {
    "collapsed": false,
    "focus": false,
    "id": "be026ca6-3b88-4e6c-935f-339089743711",
    "slideshow": {
     "slide_type": "fragment"
    }
   },
   "outputs": [
    {
     "data": {
      "text/html": [
       "<div>\n",
       "<table border=\"1\" class=\"dataframe\">\n",
       "  <thead>\n",
       "    <tr style=\"text-align: right;\">\n",
       "      <th></th>\n",
       "      <th></th>\n",
       "      <th>C</th>\n",
       "      <th>D</th>\n",
       "    </tr>\n",
       "    <tr>\n",
       "      <th>A</th>\n",
       "      <th>B</th>\n",
       "      <th></th>\n",
       "      <th></th>\n",
       "    </tr>\n",
       "  </thead>\n",
       "  <tbody>\n",
       "    <tr>\n",
       "      <th rowspan=\"3\" valign=\"top\">bar</th>\n",
       "      <th>one</th>\n",
       "      <td>-1.072298</td>\n",
       "      <td>-1.093341</td>\n",
       "    </tr>\n",
       "    <tr>\n",
       "      <th>three</th>\n",
       "      <td>-0.750093</td>\n",
       "      <td>-0.146059</td>\n",
       "    </tr>\n",
       "    <tr>\n",
       "      <th>two</th>\n",
       "      <td>0.059970</td>\n",
       "      <td>-0.363968</td>\n",
       "    </tr>\n",
       "    <tr>\n",
       "      <th rowspan=\"3\" valign=\"top\">foo</th>\n",
       "      <th>one</th>\n",
       "      <td>-1.062963</td>\n",
       "      <td>3.585883</td>\n",
       "    </tr>\n",
       "    <tr>\n",
       "      <th>three</th>\n",
       "      <td>-3.316420</td>\n",
       "      <td>0.672162</td>\n",
       "    </tr>\n",
       "    <tr>\n",
       "      <th>two</th>\n",
       "      <td>1.611067</td>\n",
       "      <td>0.549805</td>\n",
       "    </tr>\n",
       "  </tbody>\n",
       "</table>\n",
       "</div>"
      ],
      "text/plain": [
       "                  C         D\n",
       "A   B                        \n",
       "bar one   -1.072298 -1.093341\n",
       "    three -0.750093 -0.146059\n",
       "    two    0.059970 -0.363968\n",
       "foo one   -1.062963  3.585883\n",
       "    three -3.316420  0.672162\n",
       "    two    1.611067  0.549805"
      ]
     },
     "execution_count": 305,
     "metadata": {},
     "output_type": "execute_result"
    }
   ],
   "source": [
    "df\n",
    "df.groupby(['A', 'B']).sum()"
   ]
  },
  {
   "cell_type": "code",
   "execution_count": 301,
   "metadata": {
    "collapsed": false,
    "focus": false,
    "id": "20574670-3a23-4a2c-8b67-fbf3a9a7737e",
    "slideshow": {
     "slide_type": "fragment"
    }
   },
   "outputs": [
    {
     "data": {
      "text/html": [
       "<div>\n",
       "<table border=\"1\" class=\"dataframe\">\n",
       "  <thead>\n",
       "    <tr style=\"text-align: right;\">\n",
       "      <th></th>\n",
       "      <th></th>\n",
       "      <th>C</th>\n",
       "      <th>D</th>\n",
       "    </tr>\n",
       "    <tr>\n",
       "      <th>A</th>\n",
       "      <th>B</th>\n",
       "      <th></th>\n",
       "      <th></th>\n",
       "    </tr>\n",
       "  </thead>\n",
       "  <tbody>\n",
       "    <tr>\n",
       "      <th rowspan=\"3\" valign=\"top\">bar</th>\n",
       "      <th>one</th>\n",
       "      <td>-1.072298</td>\n",
       "      <td>-1.093341</td>\n",
       "    </tr>\n",
       "    <tr>\n",
       "      <th>three</th>\n",
       "      <td>-0.750093</td>\n",
       "      <td>-0.146059</td>\n",
       "    </tr>\n",
       "    <tr>\n",
       "      <th>two</th>\n",
       "      <td>0.059970</td>\n",
       "      <td>-0.363968</td>\n",
       "    </tr>\n",
       "    <tr>\n",
       "      <th rowspan=\"3\" valign=\"top\">foo</th>\n",
       "      <th>one</th>\n",
       "      <td>-1.062963</td>\n",
       "      <td>3.585883</td>\n",
       "    </tr>\n",
       "    <tr>\n",
       "      <th>three</th>\n",
       "      <td>-3.316420</td>\n",
       "      <td>0.672162</td>\n",
       "    </tr>\n",
       "    <tr>\n",
       "      <th>two</th>\n",
       "      <td>1.611067</td>\n",
       "      <td>0.549805</td>\n",
       "    </tr>\n",
       "  </tbody>\n",
       "</table>\n",
       "</div>"
      ],
      "text/plain": [
       "                  C         D\n",
       "A   B                        \n",
       "bar one   -1.072298 -1.093341\n",
       "    three -0.750093 -0.146059\n",
       "    two    0.059970 -0.363968\n",
       "foo one   -1.062963  3.585883\n",
       "    three -3.316420  0.672162\n",
       "    two    1.611067  0.549805"
      ]
     },
     "execution_count": 301,
     "metadata": {},
     "output_type": "execute_result"
    }
   ],
   "source": [
    "df.groupby(['A','B']).sum()"
   ]
  },
  {
   "cell_type": "markdown",
   "metadata": {
    "focus": false,
    "id": "fa94e6a7-1981-4d98-b43e-3090182e5836",
    "slideshow": {
     "slide_type": "subslide"
    }
   },
   "source": [
    "### Reshaping"
   ]
  },
  {
   "cell_type": "code",
   "execution_count": null,
   "metadata": {
    "collapsed": false,
    "focus": false,
    "id": "df08ec54-d000-4c15-8f93-100cae7a72da",
    "slideshow": {
     "slide_type": "fragment"
    }
   },
   "outputs": [],
   "source": [
    "# You can also stack or unstack levels"
   ]
  },
  {
   "cell_type": "code",
   "execution_count": 307,
   "metadata": {
    "collapsed": false,
    "focus": false,
    "id": "ab096955-7280-41aa-9ca8-e1d714d6f12c",
    "slideshow": {
     "slide_type": "fragment"
    }
   },
   "outputs": [
    {
     "data": {
      "text/html": [
       "<div>\n",
       "<table border=\"1\" class=\"dataframe\">\n",
       "  <thead>\n",
       "    <tr style=\"text-align: right;\">\n",
       "      <th></th>\n",
       "      <th></th>\n",
       "      <th>C</th>\n",
       "      <th>D</th>\n",
       "    </tr>\n",
       "    <tr>\n",
       "      <th>A</th>\n",
       "      <th>B</th>\n",
       "      <th></th>\n",
       "      <th></th>\n",
       "    </tr>\n",
       "  </thead>\n",
       "  <tbody>\n",
       "    <tr>\n",
       "      <th rowspan=\"3\" valign=\"top\">bar</th>\n",
       "      <th>one</th>\n",
       "      <td>-1.072298</td>\n",
       "      <td>-1.093341</td>\n",
       "    </tr>\n",
       "    <tr>\n",
       "      <th>three</th>\n",
       "      <td>-0.750093</td>\n",
       "      <td>-0.146059</td>\n",
       "    </tr>\n",
       "    <tr>\n",
       "      <th>two</th>\n",
       "      <td>0.059970</td>\n",
       "      <td>-0.363968</td>\n",
       "    </tr>\n",
       "    <tr>\n",
       "      <th rowspan=\"3\" valign=\"top\">foo</th>\n",
       "      <th>one</th>\n",
       "      <td>-1.062963</td>\n",
       "      <td>3.585883</td>\n",
       "    </tr>\n",
       "    <tr>\n",
       "      <th>three</th>\n",
       "      <td>-3.316420</td>\n",
       "      <td>0.672162</td>\n",
       "    </tr>\n",
       "    <tr>\n",
       "      <th>two</th>\n",
       "      <td>1.611067</td>\n",
       "      <td>0.549805</td>\n",
       "    </tr>\n",
       "  </tbody>\n",
       "</table>\n",
       "</div>"
      ],
      "text/plain": [
       "                  C         D\n",
       "A   B                        \n",
       "bar one   -1.072298 -1.093341\n",
       "    three -0.750093 -0.146059\n",
       "    two    0.059970 -0.363968\n",
       "foo one   -1.062963  3.585883\n",
       "    three -3.316420  0.672162\n",
       "    two    1.611067  0.549805"
      ]
     },
     "execution_count": 307,
     "metadata": {},
     "output_type": "execute_result"
    }
   ],
   "source": [
    "a = df.groupby(['A','B']).sum()\n",
    "a"
   ]
  },
  {
   "cell_type": "code",
   "execution_count": 311,
   "metadata": {
    "collapsed": false
   },
   "outputs": [
    {
     "data": {
      "text/html": [
       "<div>\n",
       "<table border=\"1\" class=\"dataframe\">\n",
       "  <thead>\n",
       "    <tr>\n",
       "      <th></th>\n",
       "      <th colspan=\"3\" halign=\"left\">C</th>\n",
       "      <th colspan=\"3\" halign=\"left\">D</th>\n",
       "    </tr>\n",
       "    <tr>\n",
       "      <th>B</th>\n",
       "      <th>one</th>\n",
       "      <th>three</th>\n",
       "      <th>two</th>\n",
       "      <th>one</th>\n",
       "      <th>three</th>\n",
       "      <th>two</th>\n",
       "    </tr>\n",
       "    <tr>\n",
       "      <th>A</th>\n",
       "      <th></th>\n",
       "      <th></th>\n",
       "      <th></th>\n",
       "      <th></th>\n",
       "      <th></th>\n",
       "      <th></th>\n",
       "    </tr>\n",
       "  </thead>\n",
       "  <tbody>\n",
       "    <tr>\n",
       "      <th>bar</th>\n",
       "      <td>-1.072298</td>\n",
       "      <td>-0.750093</td>\n",
       "      <td>0.059970</td>\n",
       "      <td>-1.093341</td>\n",
       "      <td>-0.146059</td>\n",
       "      <td>-0.363968</td>\n",
       "    </tr>\n",
       "    <tr>\n",
       "      <th>foo</th>\n",
       "      <td>-0.531481</td>\n",
       "      <td>-3.316420</td>\n",
       "      <td>0.805533</td>\n",
       "      <td>1.792941</td>\n",
       "      <td>0.672162</td>\n",
       "      <td>0.274903</td>\n",
       "    </tr>\n",
       "  </tbody>\n",
       "</table>\n",
       "</div>"
      ],
      "text/plain": [
       "            C                             D                    \n",
       "B         one     three       two       one     three       two\n",
       "A                                                              \n",
       "bar -1.072298 -0.750093  0.059970 -1.093341 -0.146059 -0.363968\n",
       "foo -0.531481 -3.316420  0.805533  1.792941  0.672162  0.274903"
      ]
     },
     "execution_count": 311,
     "metadata": {},
     "output_type": "execute_result"
    }
   ],
   "source": [
    "b = a.stack()\n",
    "b.unstack()\n",
    "pd.pivot_table(df, values = ['C', 'D'], index = ['A'], columns = ['B'])"
   ]
  },
  {
   "cell_type": "code",
   "execution_count": 308,
   "metadata": {
    "collapsed": false,
    "focus": false,
    "id": "19be1110-9007-4818-b7df-7bfe76201f28",
    "slideshow": {
     "slide_type": "fragment"
    }
   },
   "outputs": [
    {
     "data": {
      "text/html": [
       "<div>\n",
       "<table border=\"1\" class=\"dataframe\">\n",
       "  <thead>\n",
       "    <tr>\n",
       "      <th></th>\n",
       "      <th colspan=\"3\" halign=\"left\">C</th>\n",
       "      <th colspan=\"3\" halign=\"left\">D</th>\n",
       "    </tr>\n",
       "    <tr>\n",
       "      <th>B</th>\n",
       "      <th>one</th>\n",
       "      <th>three</th>\n",
       "      <th>two</th>\n",
       "      <th>one</th>\n",
       "      <th>three</th>\n",
       "      <th>two</th>\n",
       "    </tr>\n",
       "    <tr>\n",
       "      <th>A</th>\n",
       "      <th></th>\n",
       "      <th></th>\n",
       "      <th></th>\n",
       "      <th></th>\n",
       "      <th></th>\n",
       "      <th></th>\n",
       "    </tr>\n",
       "  </thead>\n",
       "  <tbody>\n",
       "    <tr>\n",
       "      <th>bar</th>\n",
       "      <td>-1.072298</td>\n",
       "      <td>-0.750093</td>\n",
       "      <td>0.059970</td>\n",
       "      <td>-1.093341</td>\n",
       "      <td>-0.146059</td>\n",
       "      <td>-0.363968</td>\n",
       "    </tr>\n",
       "    <tr>\n",
       "      <th>foo</th>\n",
       "      <td>-0.531481</td>\n",
       "      <td>-3.316420</td>\n",
       "      <td>0.805533</td>\n",
       "      <td>1.792941</td>\n",
       "      <td>0.672162</td>\n",
       "      <td>0.274903</td>\n",
       "    </tr>\n",
       "  </tbody>\n",
       "</table>\n",
       "</div>"
      ],
      "text/plain": [
       "            C                             D                    \n",
       "B         one     three       two       one     three       two\n",
       "A                                                              \n",
       "bar -1.072298 -0.750093  0.059970 -1.093341 -0.146059 -0.363968\n",
       "foo -0.531481 -3.316420  0.805533  1.792941  0.672162  0.274903"
      ]
     },
     "execution_count": 308,
     "metadata": {},
     "output_type": "execute_result"
    }
   ],
   "source": [
    "# Pivot Tables\n",
    "pd.pivot_table(df,values=['C','D'],index=['A'],columns=['B'])"
   ]
  },
  {
   "cell_type": "markdown",
   "metadata": {
    "focus": false,
    "id": "67f5eb61-baaf-4cae-973d-808a2bf89829",
    "slideshow": {
     "slide_type": "subslide"
    }
   },
   "source": [
    "### Time Series\n"
   ]
  },
  {
   "cell_type": "code",
   "execution_count": 312,
   "metadata": {
    "collapsed": false,
    "focus": false,
    "id": "09b41ef7-1b6f-4231-a3c3-b083ee337aa4"
   },
   "outputs": [],
   "source": [
    "import pandas as pd\n",
    "import numpy as np"
   ]
  },
  {
   "cell_type": "code",
   "execution_count": 317,
   "metadata": {
    "collapsed": false,
    "focus": false,
    "id": "af09a1c8-fd55-44ad-a340-93284b578f52",
    "slideshow": {
     "slide_type": "fragment"
    }
   },
   "outputs": [
    {
     "data": {
      "text/plain": [
       "DatetimeIndex(['2014-01-01 00:00:00', '2014-01-01 00:00:01',\n",
       "               '2014-01-01 00:00:02', '2014-01-01 00:00:03',\n",
       "               '2014-01-01 00:00:04', '2014-01-01 00:00:05',\n",
       "               '2014-01-01 00:00:06', '2014-01-01 00:00:07',\n",
       "               '2014-01-01 00:00:08', '2014-01-01 00:00:09',\n",
       "               '2014-01-01 00:00:10', '2014-01-01 00:00:11',\n",
       "               '2014-01-01 00:00:12', '2014-01-01 00:00:13',\n",
       "               '2014-01-01 00:00:14', '2014-01-01 00:00:15',\n",
       "               '2014-01-01 00:00:16', '2014-01-01 00:00:17',\n",
       "               '2014-01-01 00:00:18', '2014-01-01 00:00:19',\n",
       "               '2014-01-01 00:00:20', '2014-01-01 00:00:21',\n",
       "               '2014-01-01 00:00:22', '2014-01-01 00:00:23',\n",
       "               '2014-01-01 00:00:24', '2014-01-01 00:00:25',\n",
       "               '2014-01-01 00:00:26', '2014-01-01 00:00:27',\n",
       "               '2014-01-01 00:00:28', '2014-01-01 00:00:29',\n",
       "               '2014-01-01 00:00:30', '2014-01-01 00:00:31',\n",
       "               '2014-01-01 00:00:32', '2014-01-01 00:00:33',\n",
       "               '2014-01-01 00:00:34', '2014-01-01 00:00:35',\n",
       "               '2014-01-01 00:00:36', '2014-01-01 00:00:37',\n",
       "               '2014-01-01 00:00:38', '2014-01-01 00:00:39',\n",
       "               '2014-01-01 00:00:40', '2014-01-01 00:00:41',\n",
       "               '2014-01-01 00:00:42', '2014-01-01 00:00:43',\n",
       "               '2014-01-01 00:00:44', '2014-01-01 00:00:45',\n",
       "               '2014-01-01 00:00:46', '2014-01-01 00:00:47',\n",
       "               '2014-01-01 00:00:48', '2014-01-01 00:00:49',\n",
       "               '2014-01-01 00:00:50', '2014-01-01 00:00:51',\n",
       "               '2014-01-01 00:00:52', '2014-01-01 00:00:53',\n",
       "               '2014-01-01 00:00:54', '2014-01-01 00:00:55',\n",
       "               '2014-01-01 00:00:56', '2014-01-01 00:00:57',\n",
       "               '2014-01-01 00:00:58', '2014-01-01 00:00:59',\n",
       "               '2014-01-01 00:01:00', '2014-01-01 00:01:01',\n",
       "               '2014-01-01 00:01:02', '2014-01-01 00:01:03',\n",
       "               '2014-01-01 00:01:04', '2014-01-01 00:01:05',\n",
       "               '2014-01-01 00:01:06', '2014-01-01 00:01:07',\n",
       "               '2014-01-01 00:01:08', '2014-01-01 00:01:09',\n",
       "               '2014-01-01 00:01:10', '2014-01-01 00:01:11',\n",
       "               '2014-01-01 00:01:12', '2014-01-01 00:01:13',\n",
       "               '2014-01-01 00:01:14', '2014-01-01 00:01:15',\n",
       "               '2014-01-01 00:01:16', '2014-01-01 00:01:17',\n",
       "               '2014-01-01 00:01:18', '2014-01-01 00:01:19',\n",
       "               '2014-01-01 00:01:20', '2014-01-01 00:01:21',\n",
       "               '2014-01-01 00:01:22', '2014-01-01 00:01:23',\n",
       "               '2014-01-01 00:01:24', '2014-01-01 00:01:25',\n",
       "               '2014-01-01 00:01:26', '2014-01-01 00:01:27',\n",
       "               '2014-01-01 00:01:28', '2014-01-01 00:01:29',\n",
       "               '2014-01-01 00:01:30', '2014-01-01 00:01:31',\n",
       "               '2014-01-01 00:01:32', '2014-01-01 00:01:33',\n",
       "               '2014-01-01 00:01:34', '2014-01-01 00:01:35',\n",
       "               '2014-01-01 00:01:36', '2014-01-01 00:01:37',\n",
       "               '2014-01-01 00:01:38', '2014-01-01 00:01:39'],\n",
       "              dtype='datetime64[ns]', freq='S')"
      ]
     },
     "execution_count": 317,
     "metadata": {},
     "output_type": "execute_result"
    }
   ],
   "source": [
    "# 100 Seconds starting on January 1st\n",
    "rng = pd.date_range('1/1/2014', periods=100, freq='S') #freq could be M, D, S \n",
    "rng"
   ]
  },
  {
   "cell_type": "code",
   "execution_count": 320,
   "metadata": {
    "collapsed": false
   },
   "outputs": [
    {
     "data": {
      "text/plain": [
       "2014-01-01 00:00:00    158\n",
       "2014-01-01 00:00:01    317\n",
       "2014-01-01 00:00:02    149\n",
       "2014-01-01 00:00:03    254\n",
       "2014-01-01 00:00:04      8\n",
       "2014-01-01 00:00:05    352\n",
       "2014-01-01 00:00:06    331\n",
       "2014-01-01 00:00:07    350\n",
       "2014-01-01 00:00:08    420\n",
       "2014-01-01 00:00:09    196\n",
       "2014-01-01 00:00:10    401\n",
       "2014-01-01 00:00:11    377\n",
       "2014-01-01 00:00:12    396\n",
       "2014-01-01 00:00:13    207\n",
       "2014-01-01 00:00:14    409\n",
       "2014-01-01 00:00:15    279\n",
       "2014-01-01 00:00:16    448\n",
       "2014-01-01 00:00:17    414\n",
       "2014-01-01 00:00:18    182\n",
       "2014-01-01 00:00:19     31\n",
       "2014-01-01 00:00:20    457\n",
       "2014-01-01 00:00:21    408\n",
       "2014-01-01 00:00:22     46\n",
       "2014-01-01 00:00:23    446\n",
       "2014-01-01 00:00:24    247\n",
       "2014-01-01 00:00:25     88\n",
       "2014-01-01 00:00:26    148\n",
       "2014-01-01 00:00:27    146\n",
       "2014-01-01 00:00:28    430\n",
       "2014-01-01 00:00:29    230\n",
       "                      ... \n",
       "2014-01-01 00:01:10    229\n",
       "2014-01-01 00:01:11    288\n",
       "2014-01-01 00:01:12    106\n",
       "2014-01-01 00:01:13    329\n",
       "2014-01-01 00:01:14    233\n",
       "2014-01-01 00:01:15    208\n",
       "2014-01-01 00:01:16    283\n",
       "2014-01-01 00:01:17    311\n",
       "2014-01-01 00:01:18    270\n",
       "2014-01-01 00:01:19    170\n",
       "2014-01-01 00:01:20    407\n",
       "2014-01-01 00:01:21    449\n",
       "2014-01-01 00:01:22    110\n",
       "2014-01-01 00:01:23    150\n",
       "2014-01-01 00:01:24    222\n",
       "2014-01-01 00:01:25    239\n",
       "2014-01-01 00:01:26    372\n",
       "2014-01-01 00:01:27     77\n",
       "2014-01-01 00:01:28     69\n",
       "2014-01-01 00:01:29    330\n",
       "2014-01-01 00:01:30     97\n",
       "2014-01-01 00:01:31    481\n",
       "2014-01-01 00:01:32    346\n",
       "2014-01-01 00:01:33    434\n",
       "2014-01-01 00:01:34    114\n",
       "2014-01-01 00:01:35     41\n",
       "2014-01-01 00:01:36      8\n",
       "2014-01-01 00:01:37     40\n",
       "2014-01-01 00:01:38     74\n",
       "2014-01-01 00:01:39    414\n",
       "Freq: S, dtype: int64"
      ]
     },
     "execution_count": 320,
     "metadata": {},
     "output_type": "execute_result"
    }
   ],
   "source": [
    "ts = pd.Series(np.random.randint(0,500,len(rng)),index = rng)\n",
    "ts\n"
   ]
  },
  {
   "cell_type": "code",
   "execution_count": null,
   "metadata": {
    "collapsed": false,
    "focus": false,
    "id": "948b5dba-e17c-4e0a-9bcb-e5cfd5dbd151",
    "slideshow": {
     "slide_type": "fragment"
    }
   },
   "outputs": [],
   "source": [
    "# Give each second a random value\n",
    "ts = pd.Series(np.random.randint(0, 500, len(rng)), index=rng)"
   ]
  },
  {
   "cell_type": "code",
   "execution_count": 326,
   "metadata": {
    "collapsed": false,
    "focus": false,
    "id": "ee2c76e8-2e6b-4083-97a2-ee65d8a4adde",
    "slideshow": {
     "slide_type": "fragment"
    }
   },
   "outputs": [
    {
     "data": {
      "text/plain": [
       "2014-01-01    250.96\n",
       "Freq: 5T, dtype: float64"
      ]
     },
     "execution_count": 326,
     "metadata": {},
     "output_type": "execute_result"
    }
   ],
   "source": [
    "ts\n",
    "ts.resample('5Min').mean()"
   ]
  },
  {
   "cell_type": "code",
   "execution_count": 325,
   "metadata": {
    "collapsed": false,
    "focus": false,
    "id": "a5d4c14a-379a-4e9a-a3cc-e6cd5476b781",
    "slideshow": {
     "slide_type": "subslide"
    }
   },
   "outputs": [
    {
     "data": {
      "text/plain": [
       "2014-01-01 00:00:00    266.666667\n",
       "2014-01-01 00:01:00    227.400000\n",
       "Freq: T, dtype: float64"
      ]
     },
     "execution_count": 325,
     "metadata": {},
     "output_type": "execute_result"
    }
   ],
   "source": [
    "# Built in resampling\n",
    "ts.resample('1Min').mean() # Resample secondly to 1Minutely"
   ]
  },
  {
   "cell_type": "code",
   "execution_count": 324,
   "metadata": {
    "collapsed": false,
    "focus": false,
    "id": "e3a2aac3-1aec-41fb-8076-ca3433d38c87",
    "slideshow": {
     "slide_type": "slide"
    }
   },
   "outputs": [
    {
     "data": {
      "text/plain": [
       "2014-01-01 00:00:00    158\n",
       "2014-01-01 00:00:01    317\n",
       "2014-01-01 00:00:02    149\n",
       "2014-01-01 00:00:03    254\n",
       "2014-01-01 00:00:04      8\n",
       "2014-01-01 00:00:05    352\n",
       "2014-01-01 00:00:06    331\n",
       "2014-01-01 00:00:07    350\n",
       "2014-01-01 00:00:08    420\n",
       "2014-01-01 00:00:09    196\n",
       "2014-01-01 00:00:10    401\n",
       "2014-01-01 00:00:11    377\n",
       "2014-01-01 00:00:12    396\n",
       "2014-01-01 00:00:13    207\n",
       "2014-01-01 00:00:14    409\n",
       "2014-01-01 00:00:15    279\n",
       "2014-01-01 00:00:16    448\n",
       "2014-01-01 00:00:17    414\n",
       "2014-01-01 00:00:18    182\n",
       "2014-01-01 00:00:19     31\n",
       "2014-01-01 00:00:20    457\n",
       "2014-01-01 00:00:21    408\n",
       "2014-01-01 00:00:22     46\n",
       "2014-01-01 00:00:23    446\n",
       "2014-01-01 00:00:24    247\n",
       "2014-01-01 00:00:25     88\n",
       "2014-01-01 00:00:26    148\n",
       "2014-01-01 00:00:27    146\n",
       "2014-01-01 00:00:28    430\n",
       "2014-01-01 00:00:29    230\n",
       "                      ... \n",
       "2014-01-01 00:01:10    229\n",
       "2014-01-01 00:01:11    288\n",
       "2014-01-01 00:01:12    106\n",
       "2014-01-01 00:01:13    329\n",
       "2014-01-01 00:01:14    233\n",
       "2014-01-01 00:01:15    208\n",
       "2014-01-01 00:01:16    283\n",
       "2014-01-01 00:01:17    311\n",
       "2014-01-01 00:01:18    270\n",
       "2014-01-01 00:01:19    170\n",
       "2014-01-01 00:01:20    407\n",
       "2014-01-01 00:01:21    449\n",
       "2014-01-01 00:01:22    110\n",
       "2014-01-01 00:01:23    150\n",
       "2014-01-01 00:01:24    222\n",
       "2014-01-01 00:01:25    239\n",
       "2014-01-01 00:01:26    372\n",
       "2014-01-01 00:01:27     77\n",
       "2014-01-01 00:01:28     69\n",
       "2014-01-01 00:01:29    330\n",
       "2014-01-01 00:01:30     97\n",
       "2014-01-01 00:01:31    481\n",
       "2014-01-01 00:01:32    346\n",
       "2014-01-01 00:01:33    434\n",
       "2014-01-01 00:01:34    114\n",
       "2014-01-01 00:01:35     41\n",
       "2014-01-01 00:01:36      8\n",
       "2014-01-01 00:01:37     40\n",
       "2014-01-01 00:01:38     74\n",
       "2014-01-01 00:01:39    414\n",
       "Freq: S, dtype: int64"
      ]
     },
     "execution_count": 324,
     "metadata": {},
     "output_type": "execute_result"
    }
   ],
   "source": [
    "# Many additional time series features\n",
    "ts. #use tab"
   ]
  },
  {
   "cell_type": "markdown",
   "metadata": {
    "focus": false,
    "id": "b281a484-9cf5-41da-b898-ac5ea012053a",
    "slideshow": {
     "slide_type": "slide"
    }
   },
   "source": [
    "### Plotting\n"
   ]
  },
  {
   "cell_type": "code",
   "execution_count": 369,
   "metadata": {
    "collapsed": false,
    "focus": false,
    "id": "e0d64120-b593-447e-9088-731b31629e25",
    "slideshow": {
     "slide_type": "subslide"
    }
   },
   "outputs": [
    {
     "data": {
      "image/png": "[encoded data removed]",
      "text/plain": [
       "<matplotlib.figure.Figure at 0x11969bc50>"
      ]
     },
     "metadata": {},
     "output_type": "display_data"
    }
   ],
   "source": [
    "ts.plot()\n",
    "plt.show()"
   ]
  },
  {
   "cell_type": "code",
   "execution_count": 368,
   "metadata": {
    "collapsed": false,
    "scrolled": true
   },
   "outputs": [
    {
     "data": {
      "image/png": "[encoded data removed]",
      "text/plain": [
       "<matplotlib.figure.Figure at 0x11a362790>"
      ]
     },
     "metadata": {},
     "output_type": "display_data"
    }
   ],
   "source": [
    "ts = pd.Series(np.random.randn(1000), index = pd.date_range('2012-01-01', periods = 1000))    \n",
    "ts = ts.cumsum()\n",
    "ts.plot() \n",
    "plt.show()"
   ]
  },
  {
   "cell_type": "code",
   "execution_count": 370,
   "metadata": {
    "collapsed": false
   },
   "outputs": [
    {
     "data": {
      "image/png": "[encoded data removed]",
      "text/plain": [
       "<matplotlib.figure.Figure at 0x119a49f10>"
      ]
     },
     "metadata": {},
     "output_type": "display_data"
    }
   ],
   "source": [
    "ts = pd.Series(np.random.randn(1000), index = pd.date_range('2012-01-01', periods = 1000))    \n",
    "ts = ts.cumsum()\n",
    "#plt.figure()\n",
    "ts.plot()\n",
    "plt.show()"
   ]
  },
  {
   "cell_type": "code",
   "execution_count": 371,
   "metadata": {
    "collapsed": false,
    "focus": false,
    "id": "05fb3a7f-f96d-4d2c-8944-bf02768b7eb2",
    "slideshow": {
     "slide_type": "subslide"
    }
   },
   "outputs": [],
   "source": [
    "def randwalk(startdate,points):\n",
    "    ts = pd.Series(np.random.randn(points), index=pd.date_range(startdate, periods=points))\n",
    "    ts=ts.cumsum()\n",
    "    ts.plot()\n",
    "    plt.show()\n",
    "    return(ts)"
   ]
  },
  {
   "cell_type": "code",
   "execution_count": 372,
   "metadata": {
    "collapsed": false,
    "focus": false,
    "id": "0ad89701-d9a8-41d2-b93b-f0e28a76498c",
    "scrolled": false,
    "slideshow": {
     "slide_type": "fragment"
    }
   },
   "outputs": [
    {
     "data": {
      "image/png": "[encoded data removed]",
      "text/plain": [
       "<matplotlib.figure.Figure at 0x119aa2650>"
      ]
     },
     "metadata": {},
     "output_type": "display_data"
    },
    {
     "data": {
      "text/plain": [
       "2012-01-01    -1.134797\n",
       "2012-01-02    -1.919550\n",
       "2012-01-03    -1.388785\n",
       "2012-01-04    -3.694624\n",
       "2012-01-05    -4.165784\n",
       "2012-01-06    -4.195564\n",
       "2012-01-07    -6.009534\n",
       "2012-01-08    -5.478586\n",
       "2012-01-09    -6.103129\n",
       "2012-01-10    -5.781851\n",
       "2012-01-11    -5.415110\n",
       "2012-01-12    -5.363731\n",
       "2012-01-13    -5.898502\n",
       "2012-01-14    -5.084479\n",
       "2012-01-15    -6.380402\n",
       "2012-01-16    -7.088994\n",
       "2012-01-17    -6.809748\n",
       "2012-01-18    -8.253046\n",
       "2012-01-19   -10.080315\n",
       "2012-01-20   -10.014255\n",
       "2012-01-21    -9.837914\n",
       "2012-01-22   -10.470903\n",
       "2012-01-23    -9.488945\n",
       "2012-01-24   -10.293832\n",
       "2012-01-25   -11.201128\n",
       "2012-01-26   -11.168721\n",
       "2012-01-27   -11.281144\n",
       "2012-01-28   -11.089269\n",
       "2012-01-29   -10.764199\n",
       "2012-01-30   -10.262434\n",
       "                ...    \n",
       "2014-08-28    16.636924\n",
       "2014-08-29    18.441105\n",
       "2014-08-30    18.171176\n",
       "2014-08-31    16.821644\n",
       "2014-09-01    18.290297\n",
       "2014-09-02    17.581413\n",
       "2014-09-03    16.891390\n",
       "2014-09-04    16.468358\n",
       "2014-09-05    16.180956\n",
       "2014-09-06    15.381855\n",
       "2014-09-07    14.007266\n",
       "2014-09-08    14.764234\n",
       "2014-09-09    14.566186\n",
       "2014-09-10    14.417683\n",
       "2014-09-11    13.519831\n",
       "2014-09-12    13.029243\n",
       "2014-09-13    10.146153\n",
       "2014-09-14    10.576097\n",
       "2014-09-15    12.585621\n",
       "2014-09-16    13.197110\n",
       "2014-09-17    12.691479\n",
       "2014-09-18    12.635484\n",
       "2014-09-19    14.642459\n",
       "2014-09-20    16.158199\n",
       "2014-09-21    16.464470\n",
       "2014-09-22    16.539585\n",
       "2014-09-23    16.205969\n",
       "2014-09-24    16.137927\n",
       "2014-09-25    17.341074\n",
       "2014-09-26    16.431191\n",
       "Freq: D, dtype: float64"
      ]
     },
     "execution_count": 372,
     "metadata": {},
     "output_type": "execute_result"
    }
   ],
   "source": [
    "# Using pandas to make a simple random walker by repeatedly running:\n",
    "a=randwalk('1/1/2012',1000)\n",
    "a"
   ]
  },
  {
   "cell_type": "code",
   "execution_count": null,
   "metadata": {
    "collapsed": false,
    "focus": false,
    "id": "d7c096a1-789c-494e-abf1-c253ad93729c",
    "slideshow": {
     "slide_type": "subslide"
    }
   },
   "outputs": [],
   "source": [
    "# Pandas plot function will print with labels as default"
   ]
  },
  {
   "cell_type": "code",
   "execution_count": null,
   "metadata": {
    "collapsed": true
   },
   "outputs": [],
   "source": [
    "\n"
   ]
  },
  {
   "cell_type": "code",
   "execution_count": 375,
   "metadata": {
    "collapsed": false,
    "focus": false,
    "id": "f2951491-24b2-4552-bd06-304e1b12704d",
    "slideshow": {
     "slide_type": "fragment"
    }
   },
   "outputs": [
    {
     "data": {
      "text/plain": [
       "<matplotlib.figure.Figure at 0x119a8c890>"
      ]
     },
     "metadata": {},
     "output_type": "display_data"
    },
    {
     "data": {
      "image/png": "[encoded data removed]",
      "text/plain": [
       "<matplotlib.figure.Figure at 0x119883890>"
      ]
     },
     "metadata": {},
     "output_type": "display_data"
    }
   ],
   "source": [
    "df = pd.DataFrame(np.random.randn(1000, 4), index=ts.index,columns=['A', 'B', 'C', 'D'])\n",
    "df = df.cumsum()\n",
    "plt.figure();df.plot();plt.legend(loc='best'); plt.show()"
   ]
  },
  {
   "cell_type": "markdown",
   "metadata": {
    "focus": false,
    "id": "2f982866-332b-4e39-a784-092157257f8f",
    "slideshow": {
     "slide_type": "subslide"
    }
   },
   "source": [
    "### I/O\n",
    "I/O is straightforward with, for example, pd.read_csv or df.to_csv"
   ]
  },
  {
   "cell_type": "markdown",
   "metadata": {
    "focus": false,
    "id": "a9c47dc7-ff2c-4d5f-9f77-0015da6e02aa",
    "slideshow": {
     "slide_type": "subslide"
    }
   },
   "source": [
    "#### The benefits of open source:\n",
    "\n",
    "Let's look under x's in plt modules"
   ]
  },
  {
   "cell_type": "markdown",
   "metadata": {
    "focus": true,
    "id": "a51cdd68-c291-46ae-9bf5-ed4f0819f161",
    "slideshow": {
     "slide_type": "slide"
    }
   },
   "source": [
    "# Next Steps\n",
    "\n",
    "**Recommended Resources**\n",
    "\n",
    "Name | Description\n",
    "--- | ---\n",
    "[Official Pandas Tutorials](http://pandas.pydata.org/pandas-docs/stable/10min.html) | Wes & Company's selection of tutorials and lectures\n",
    "[Julia Evans Pandas Cookbook](https://github.com/jvns/pandas-cookbook) | Great resource with examples from weather, bikes and 311 calls\n",
    "[Learn Pandas Tutorials](https://bitbucket.org/hrojas/learn-pandas) | A great series of Pandas tutorials from Dave Rojas\n",
    "[Research Computing Python Data PYNBs](https://github.com/ResearchComputing/Meetup-Fall-2013/tree/master/python) | A super awesome set of python notebooks from a meetup-based course exclusively devoted to pandas"
   ]
  },
  {
   "cell_type": "code",
   "execution_count": null,
   "metadata": {
    "collapsed": true
   },
   "outputs": [],
   "source": []
  }
 ],
 "metadata": {
  "kernelspec": {
   "display_name": "Python 2",
   "language": "python",
   "name": "python2"
  },
  "language_info": {
   "codemirror_mode": {
    "name": "ipython",
    "version": 2
   },
   "file_extension": ".py",
   "mimetype": "text/x-python",
   "name": "python",
   "nbconvert_exporter": "python",
   "pygments_lexer": "ipython2",
   "version": "2.7.13"
  }
 },
 "nbformat": 4,
 "nbformat_minor": 0
}
