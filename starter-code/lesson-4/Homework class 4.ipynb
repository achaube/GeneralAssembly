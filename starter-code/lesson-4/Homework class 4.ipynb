{
 "cells": [
  {
   "cell_type": "markdown",
   "metadata": {},
   "source": [
    "### Homework 4\n",
    "\n",
    "+ You now have the tools to come up with a solid research question\n",
    "+ With an *idea* of how you might answer it\n",
    "+ Now create two for your final project! \n"
   ]
  },
  {
   "cell_type": "markdown",
   "metadata": {},
   "source": [
    "### Step 1\n",
    "\n",
    "+ Choose a freely available dataset\n",
    "+ Checkout public_data.md on course github"
   ]
  },
  {
   "cell_type": "markdown",
   "metadata": {},
   "source": [
    "### Step 2\n",
    "\n",
    "+ Choose an outcome you are interested in\n",
    "+ Is it categorical? Linear? "
   ]
  },
  {
   "cell_type": "markdown",
   "metadata": {},
   "source": [
    "### Step 3\n",
    "\n",
    "+ What do you want to know that we don't already know?"
   ]
  },
  {
   "cell_type": "code",
   "execution_count": 3,
   "metadata": {
    "collapsed": false
   },
   "outputs": [],
   "source": [
    "#Dataset 1: Breast Cancer Wisconsin (Diagnostic) Dataset (UCI Machine Learning Repository)\n",
    "#Question: Predict whether cancer is Benign or Malignant based on features of cell nucleaus\n",
    "#Outcome: Categorical (Yes or No ) \n",
    "    \n",
    "#Dataset 2: Adult Census Income Dataset (UCI Machine Learning Repository)\n",
    "#Question: Based on the census data, predict whether income exceeds $50K/yr based on census data \n",
    "#Outcome: Categorical (Yes or No)\n",
    "    \n",
    "#Dataset 3: Human Resource Analytics Dataset (Kaggle)\n",
    "#Question: Why do best employees leave the company? Can we predict which employees may leave next and proactively take actions to make the best ones stay.    \n",
    "#Outcome: Categorical (Yes or No )"
   ]
  },
  {
   "cell_type": "code",
   "execution_count": null,
   "metadata": {
    "collapsed": true
   },
   "outputs": [],
   "source": []
  }
 ],
 "metadata": {
  "kernelspec": {
   "display_name": "Python 2",
   "language": "python",
   "name": "python2"
  },
  "language_info": {
   "codemirror_mode": {
    "name": "ipython",
    "version": 2
   },
   "file_extension": ".py",
   "mimetype": "text/x-python",
   "name": "python",
   "nbconvert_exporter": "python",
   "pygments_lexer": "ipython2",
   "version": "2.7.13"
  }
 },
 "nbformat": 4,
 "nbformat_minor": 0
}
